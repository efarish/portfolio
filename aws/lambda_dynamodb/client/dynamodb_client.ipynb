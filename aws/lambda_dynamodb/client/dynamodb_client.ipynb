{
 "cells": [
  {
   "cell_type": "code",
   "execution_count": 9,
   "id": "f24825a4",
   "metadata": {},
   "outputs": [
    {
     "name": "stderr",
     "output_type": "stream",
     "text": [
      "\n",
      "[notice] A new release of pip is available: 24.0 -> 25.0.1\n",
      "[notice] To update, run: python.exe -m pip install --upgrade pip\n"
     ]
    }
   ],
   "source": [
    "!pip install -qU httpx --progress-bar off"
   ]
  },
  {
   "cell_type": "code",
   "execution_count": 1,
   "id": "f6c95404",
   "metadata": {},
   "outputs": [],
   "source": [
    "import boto3\n",
    "from boto3.dynamodb.conditions import Key, Attr\n",
    "from decimal import Decimal, getcontext\n",
    "getcontext().prec = 8"
   ]
  },
  {
   "cell_type": "code",
   "execution_count": 2,
   "id": "1fc2bc3c",
   "metadata": {},
   "outputs": [
    {
     "data": {
      "text/plain": [
       "{'ResponseMetadata': {'RequestId': 'BOLJNTEC0M0HD1P3ISJ755GLKFVV4KQNSO5AEMVJF66Q9ASUAAJG',\n",
       "  'HTTPStatusCode': 200,\n",
       "  'HTTPHeaders': {'server': 'Server',\n",
       "   'date': 'Mon, 05 May 2025 18:36:50 GMT',\n",
       "   'content-type': 'application/x-amz-json-1.0',\n",
       "   'content-length': '2',\n",
       "   'connection': 'keep-alive',\n",
       "   'x-amzn-requestid': 'BOLJNTEC0M0HD1P3ISJ755GLKFVV4KQNSO5AEMVJF66Q9ASUAAJG',\n",
       "   'x-amz-crc32': '2745614147'},\n",
       "  'RetryAttempts': 0}}"
      ]
     },
     "execution_count": 2,
     "metadata": {},
     "output_type": "execute_result"
    }
   ],
   "source": [
    "USER_TABLE = \"lambda_dynamodb_user\"\n",
    "table = boto3.resource('dynamodb')\n",
    "table = table.Table(USER_TABLE)\n",
    "user = {\"user_name\": \"a_user\", \"role\": \"user\", \"password\": \"password\"}\n",
    "table.put_item(Item=user)"
   ]
  },
  {
   "cell_type": "code",
   "execution_count": null,
   "id": "067c497f",
   "metadata": {},
   "outputs": [
    {
     "data": {
      "text/plain": [
       "{'ResponseMetadata': {'RequestId': '3HMIKUECTLMARF1EOKMR8JPQ9BVV4KQNSO5AEMVJF66Q9ASUAAJG',\n",
       "  'HTTPStatusCode': 200,\n",
       "  'HTTPHeaders': {'server': 'Server',\n",
       "   'date': 'Wed, 23 Apr 2025 16:30:40 GMT',\n",
       "   'content-type': 'application/x-amz-json-1.0',\n",
       "   'content-length': '2',\n",
       "   'connection': 'keep-alive',\n",
       "   'x-amzn-requestid': '3HMIKUECTLMARF1EOKMR8JPQ9BVV4KQNSO5AEMVJF66Q9ASUAAJG',\n",
       "   'x-amz-crc32': '2745614147'},\n",
       "  'RetryAttempts': 0}}"
      ]
     },
     "execution_count": 11,
     "metadata": {},
     "output_type": "execute_result"
    }
   ],
   "source": [
    "USER_LOCATION_TABLE = \"DeviceTracker_Location\"\n",
    "table = boto3.resource('dynamodb')\n",
    "table = table.Table(USER_LOCATION_TABLE)\n",
    "user_loc = {\"user_name\": \"user_1\", \"lat\": Decimal(\"3.1\"),\"lon\": Decimal(\"4.1\")}\n",
    "table.put_item(Item=user_loc)"
   ]
  },
  {
   "cell_type": "code",
   "execution_count": 13,
   "id": "4e185213",
   "metadata": {},
   "outputs": [],
   "source": [
    "from dataclasses import asdict, dataclass, field\n",
    "from decimal import Decimal\n",
    "\n",
    "import boto3\n",
    "\n",
    "USER_LOCATION_TABLE = \"DeviceTracker_Location\"\n",
    "\n",
    "@dataclass\n",
    "class UserLocation:\n",
    "    user_name: str\n",
    "    lat: Decimal = field(metadata={'max_digits': 12, 'decimal_places': 8})\n",
    "    lon: Decimal = field(metadata={'max_digits': 12, 'decimal_places': 8})\n",
    "\n",
    "    def model_dump(self):\n",
    "        return asdict(self)\n",
    "    \n",
    "def get_client():\n",
    "    return boto3.resource('dynamodb')\n",
    "    \n",
    "def update_user_location(user_name: str, lat: Decimal, lon: Decimal) -> UserLocation:\n",
    "    client = get_client()\n",
    "    table = client.Table(USER_LOCATION_TABLE)\n",
    "    loc = {\"user_name\": user_name,\"lat\": lat,\"lon\": lon}\n",
    "    table.put_item(Item=loc)\n",
    "    return UserLocation(**loc)"
   ]
  },
  {
   "cell_type": "code",
   "execution_count": 15,
   "id": "47214a9d",
   "metadata": {},
   "outputs": [
    {
     "data": {
      "text/plain": [
       "UserLocation(user_name='user_5', lat=Decimal('2.2'), lon=Decimal('2.3'))"
      ]
     },
     "execution_count": 15,
     "metadata": {},
     "output_type": "execute_result"
    }
   ],
   "source": [
    "update_user_location('user_5', Decimal(\"2.2\"), Decimal(\"2.3\"))"
   ]
  }
 ],
 "metadata": {
  "kernelspec": {
   "display_name": "vent",
   "language": "python",
   "name": "python3"
  },
  "language_info": {
   "codemirror_mode": {
    "name": "ipython",
    "version": 3
   },
   "file_extension": ".py",
   "mimetype": "text/x-python",
   "name": "python",
   "nbconvert_exporter": "python",
   "pygments_lexer": "ipython3",
   "version": "3.12.3"
  }
 },
 "nbformat": 4,
 "nbformat_minor": 5
}
