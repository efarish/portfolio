{
 "cells": [
  {
   "cell_type": "code",
   "execution_count": 3,
   "id": "351256f4",
   "metadata": {},
   "outputs": [
    {
     "name": "stderr",
     "output_type": "stream",
     "text": [
      "\n",
      "[notice] A new release of pip is available: 24.0 -> 25.1\n",
      "[notice] To update, run: python.exe -m pip install --upgrade pip\n"
     ]
    }
   ],
   "source": [
    "!pip install -qU requests --progress-bar off"
   ]
  },
  {
   "cell_type": "code",
   "execution_count": 4,
   "id": "9ae297d4",
   "metadata": {},
   "outputs": [],
   "source": [
    "import requests\n",
    "import json"
   ]
  },
  {
   "cell_type": "code",
   "execution_count": null,
   "id": "368c6fae",
   "metadata": {},
   "outputs": [
    {
     "name": "stdout",
     "output_type": "stream",
     "text": [
      "{\n",
      "  \"data\": {\n",
      "    \"getUser\": {\n",
      "      \"password\": \"a_password\",\n",
      "      \"role\": \"user\",\n",
      "      \"user_name\": \"a_user\"\n",
      "    }\n",
      "  }\n",
      "}\n"
     ]
    }
   ],
   "source": [
    "# AppSync API endpoint URL and API key\n",
    "api_url = \"https://mzwtu1oyr9.execute-api.us-east-1.amazonaws.com/test_gql\"  # Replace with your actual API URL\n",
    "api_key = \"da2-6yf6olcoubfl3mqhqp7knukomq\"  # Replace with your actual API key\n",
    "\n",
    "# GraphQL query or mutation\n",
    "graphql_query = \"\"\"\n",
    "    query MyQuery($user_name: ID!) {\n",
    "        getUser(user_name: $user_name) {\n",
    "            password\n",
    "            role\n",
    "            user_name\n",
    "        }\n",
    "    }\n",
    "\"\"\"\n",
    "\n",
    "variables = {\n",
    "    \"user_name\": \"a_user\"\n",
    "}\n",
    "\n",
    "# Request payload\n",
    "payload = {\n",
    "    \"query\": graphql_query,\n",
    "    \"variables\": variables\n",
    "}\n",
    "\n",
    "# Request headers\n",
    "headers = {\n",
    "    \"Content-Type\": \"application/json\",\n",
    "    \"x-api-key\": api_key\n",
    "}\n",
    "\n",
    "# Make the HTTP request\n",
    "try:\n",
    "    response = requests.post(api_url, data=json.dumps(payload), headers=headers)\n",
    "    response.raise_for_status()  # Raise HTTPError for bad responses (4xx or 5xx)\n",
    "    \n",
    "    # Parse the JSON response\n",
    "    json_response = response.json()\n",
    "    print(json.dumps(json_response, indent=2))\n",
    "\n",
    "except requests.exceptions.RequestException as e:\n",
    "    print(f\"Request failed: {e}\")\n",
    "except json.JSONDecodeError as e:\n",
    "    print(f\"Failed to decode JSON response: {e}\")\n",
    "except Exception as e:\n",
    "    print(f\"An unexpected error occurred: {e}\")"
   ]
  }
 ],
 "metadata": {
  "kernelspec": {
   "display_name": "vent",
   "language": "python",
   "name": "python3"
  },
  "language_info": {
   "codemirror_mode": {
    "name": "ipython",
    "version": 3
   },
   "file_extension": ".py",
   "mimetype": "text/x-python",
   "name": "python",
   "nbconvert_exporter": "python",
   "pygments_lexer": "ipython3",
   "version": "3.12.3"
  }
 },
 "nbformat": 4,
 "nbformat_minor": 5
}
