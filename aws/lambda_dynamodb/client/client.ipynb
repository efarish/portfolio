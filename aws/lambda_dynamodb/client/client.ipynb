{
 "cells": [
  {
   "cell_type": "code",
   "execution_count": 7,
   "id": "f6c95404",
   "metadata": {},
   "outputs": [],
   "source": [
    "import boto3\n",
    "from boto3.dynamodb.conditions import Key, Attr"
   ]
  },
  {
   "cell_type": "code",
   "execution_count": 2,
   "id": "5aeadfcf",
   "metadata": {},
   "outputs": [],
   "source": [
    "def add_user(user_name, role, pwd):\n",
    "    dynamodb = boto3.resource(\"dynamodb\")\n",
    "    table = dynamodb.Table(\"DeviceTracker_Users\")\n",
    "    user = {\n",
    "        \"user_name\": user_name,\n",
    "        \"role\": role,\n",
    "        \"password\":pwd\n",
    "    }\n",
    "    table.put_item(Item=user)\n",
    "    return user"
   ]
  },
  {
   "cell_type": "code",
   "execution_count": 3,
   "id": "5e38139d",
   "metadata": {},
   "outputs": [
    {
     "data": {
      "text/plain": [
       "{'user_name': 'a_user_1', 'role': 'user', 'password': 'a_password'}"
      ]
     },
     "execution_count": 3,
     "metadata": {},
     "output_type": "execute_result"
    }
   ],
   "source": [
    "add_user('a_user_1', 'user', 'a_password')"
   ]
  },
  {
   "cell_type": "code",
   "execution_count": null,
   "id": "2a558549",
   "metadata": {},
   "outputs": [],
   "source": [
    "def get_user(user_name):\n",
    "    dynamodb = boto3.resource(\"dynamodb\")\n",
    "    #Explicitly specify a region\n",
    "    #dynamodb = boto3.resource('dynamodb',region_name='us-east-1')\n",
    "    table = dynamodb.Table(\"DeviceTracker_Users\")\n",
    "\n",
    "    response = table.query(KeyConditionExpression=Key(\"user_name\").eq(user_name))\n",
    "\n",
    "    return response[\"Items\"]"
   ]
  },
  {
   "cell_type": "code",
   "execution_count": 10,
   "id": "48a7fda9",
   "metadata": {},
   "outputs": [
    {
     "data": {
      "text/plain": [
       "[]"
      ]
     },
     "execution_count": 10,
     "metadata": {},
     "output_type": "execute_result"
    }
   ],
   "source": [
    "get_user('a_user_1a')"
   ]
  }
 ],
 "metadata": {
  "kernelspec": {
   "display_name": "vent",
   "language": "python",
   "name": "python3"
  },
  "language_info": {
   "codemirror_mode": {
    "name": "ipython",
    "version": 3
   },
   "file_extension": ".py",
   "mimetype": "text/x-python",
   "name": "python",
   "nbconvert_exporter": "python",
   "pygments_lexer": "ipython3",
   "version": "3.12.3"
  }
 },
 "nbformat": 4,
 "nbformat_minor": 5
}
