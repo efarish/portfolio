{
 "cells": [
  {
   "cell_type": "code",
   "execution_count": 1,
   "id": "f6c95404",
   "metadata": {},
   "outputs": [],
   "source": [
    "import boto3"
   ]
  },
  {
   "cell_type": "code",
   "execution_count": null,
   "id": "5aeadfcf",
   "metadata": {},
   "outputs": [],
   "source": [
    "def add_user(user_name, role, pwd):\n",
    "    dynamodb = boto3.resource(\"dynamodb\")\n",
    "    table = dynamodb.Table(\"DeviceTracker_Users\")\n",
    "    user = {\n",
    "        \"user_name\": user_name,\n",
    "        \"role\": role,\n",
    "        \"password\":pwd\n",
    "    }\n",
    "    table.put_item(Item=user)\n",
    "    return user"
   ]
  },
  {
   "cell_type": "code",
   "execution_count": null,
   "id": "5e38139d",
   "metadata": {},
   "outputs": [],
   "source": [
    "add_user('a_user_1', 'user', 'a_password')"
   ]
  }
 ],
 "metadata": {
  "kernelspec": {
   "display_name": "vent",
   "language": "python",
   "name": "python3"
  },
  "language_info": {
   "codemirror_mode": {
    "name": "ipython",
    "version": 3
   },
   "file_extension": ".py",
   "mimetype": "text/x-python",
   "name": "python",
   "nbconvert_exporter": "python",
   "pygments_lexer": "ipython3",
   "version": "3.12.3"
  }
 },
 "nbformat": 4,
 "nbformat_minor": 5
}
