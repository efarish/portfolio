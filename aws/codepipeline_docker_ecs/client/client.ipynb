{
 "cells": [
  {
   "cell_type": "markdown",
   "metadata": {},
   "source": [
    "# Set Globals\n",
    "\n",
    "Set the endpoint URL. This can be you loopback address or a remote URL (e.g. AWS load balancer, API Gateway, etc. ) "
   ]
  },
  {
   "cell_type": "code",
   "execution_count": 1,
   "metadata": {},
   "outputs": [
    {
     "name": "stderr",
     "output_type": "stream",
     "text": [
      "\n",
      "[notice] A new release of pip is available: 24.0 -> 24.3.1\n",
      "[notice] To update, run: python.exe -m pip install --upgrade pip\n"
     ]
    }
   ],
   "source": [
    "!pip install -qU requests --progress-bar off"
   ]
  },
  {
   "cell_type": "code",
   "execution_count": 1,
   "metadata": {},
   "outputs": [],
   "source": [
    "import requests\n",
    "\n",
    "api = 'https://kw5uxnp4v4.execute-api.us-east-1.amazonaws.com' # Update with API Gateway URL."
   ]
  },
  {
   "cell_type": "markdown",
   "metadata": {},
   "source": [
    "# Get Request\n",
    "\n",
    "Test GET request on endpoint."
   ]
  },
  {
   "cell_type": "code",
   "execution_count": 7,
   "metadata": {},
   "outputs": [
    {
     "name": "stdout",
     "output_type": "stream",
     "text": [
      "response.status_code=200\n",
      "response.text='{\"message\":\"Hi from the Upload container v2.\"}'\n"
     ]
    }
   ],
   "source": [
    "url = api + '/getInfo'\n",
    "response = requests.get(url)\n",
    "print(f'{response.status_code=}')\n",
    "print(f'{response.text=}')"
   ]
  },
  {
   "cell_type": "markdown",
   "metadata": {},
   "source": [
    "# Post multi-part message to FastAPI endpoint.\n",
    "\n",
    "Test posting an image to the endpoint. "
   ]
  },
  {
   "cell_type": "code",
   "execution_count": 11,
   "metadata": {},
   "outputs": [
    {
     "name": "stdout",
     "output_type": "stream",
     "text": [
      "response.status_code=201\n"
     ]
    }
   ],
   "source": [
    "file_path = \"./daisy1.jpg\"\n",
    "url = api + \"/upload\"\n",
    "\n",
    "with open(file_path, 'rb') as image_file:\n",
    "    files = {'file': ('image.jpg', image_file, 'image/png')}\n",
    "    response = requests.post(url, files=files)\n",
    "\n",
    "print(f'{response.status_code=}')\n",
    "#print(f'{response.text=}')"
   ]
  }
 ],
 "metadata": {
  "kernelspec": {
   "display_name": ".venv",
   "language": "python",
   "name": "python3"
  },
  "language_info": {
   "codemirror_mode": {
    "name": "ipython",
    "version": 3
   },
   "file_extension": ".py",
   "mimetype": "text/x-python",
   "name": "python",
   "nbconvert_exporter": "python",
   "pygments_lexer": "ipython3",
   "version": "3.12.3"
  }
 },
 "nbformat": 4,
 "nbformat_minor": 2
}
