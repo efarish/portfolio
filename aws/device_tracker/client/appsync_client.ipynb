{
 "cells": [
  {
   "cell_type": "code",
   "execution_count": 3,
   "id": "351256f4",
   "metadata": {},
   "outputs": [
    {
     "name": "stderr",
     "output_type": "stream",
     "text": [
      "\n",
      "[notice] A new release of pip is available: 24.0 -> 25.1\n",
      "[notice] To update, run: python.exe -m pip install --upgrade pip\n"
     ]
    }
   ],
   "source": [
    "!pip install -qU requests --progress-bar off"
   ]
  },
  {
   "cell_type": "code",
   "execution_count": 1,
   "id": "9ae297d4",
   "metadata": {},
   "outputs": [],
   "source": [
    "import requests\n",
    "import json\n",
    "\n",
    "# AppSync API endpoint URL and API key\n",
    "api_url = \"https://addvro58ac.execute-api.us-east-1.amazonaws.com\"  # Replace with your actual API URL\n",
    "#api_key = \"da2-fyjdrefk6fcbpafiv3s63g5c3u\"  # Replace with your actual API key\n",
    "\n",
    "user = {\"user_name\": \"a_user\", \"role\": \"user\", \"password\": \"password\"}"
   ]
  },
  {
   "cell_type": "code",
   "execution_count": 8,
   "id": "ceaba25b",
   "metadata": {},
   "outputs": [
    {
     "name": "stdout",
     "output_type": "stream",
     "text": [
      "response.status_code=403 response.text='Failed login.'\n",
      "CPU times: total: 31.2 ms\n",
      "Wall time: 1.55 s\n"
     ]
    }
   ],
   "source": [
    "%%time \n",
    "response = requests.post(api_url + '/login', \n",
    "                         data=json.dumps({\"user_name\": user.get('user_name'), \"password\": user.get('password')}),\n",
    "                         headers={\"Content-Type\": \"application/json\"})\n",
    "print(f'{response.status_code=} {response.text=}')\n",
    "#token = response.json()['access_token']\n",
    "#print(f'{token=}')\n",
    "#user_headers = {\"Authorization\": f\"{token}\", \"Content-Type\": \"application/json\"}"
   ]
  },
  {
   "cell_type": "markdown",
   "id": "738c64c3",
   "metadata": {},
   "source": [
    "### A create user example.\n",
    "\n"
   ]
  },
  {
   "cell_type": "code",
   "execution_count": 3,
   "id": "74ef2f99",
   "metadata": {},
   "outputs": [
    {
     "name": "stdout",
     "output_type": "stream",
     "text": [
      "Request failed: 401 Client Error: Unauthorized for url: https://addvro58ac.execute-api.us-east-1.amazonaws.com/create_user\n"
     ]
    }
   ],
   "source": [
    "# GraphQL query or mutation\n",
    "graphql_stmt = \"\"\"\n",
    "mutation CreateUser($user_name: ID!, $role: String!, $password: String!) {\n",
    "    createUser(user_name: $user_name, role: $role, password: $password) {\n",
    "        user_name\n",
    "        role\n",
    "    }\n",
    "}\n",
    "\"\"\"\n",
    "\n",
    "variables = user\n",
    "\n",
    "# Request payload\n",
    "payload = {\n",
    "    \"query\": graphql_stmt,\n",
    "    \"variables\": variables\n",
    "}\n",
    "\n",
    "# Request headers\n",
    "headers = {\"Content-Type\": \"application/json\"} #,\"x-api-key\": api_key}\n",
    "\n",
    "# Make the HTTP request\n",
    "try:\n",
    "    response = requests.post(api_url + '/create_user', data=json.dumps(payload), headers=headers)\n",
    "    response.raise_for_status()\n",
    "    json_response = response.json()\n",
    "    \n",
    "    match json_response:\n",
    "        case {'data': {'createUser': {'user_name': user_name, 'role': role}}}:\n",
    "            print(f\"User created successfully: {user_name=}, {role=}\")\n",
    "        case {'errors': errors}:\n",
    "            print(f\"Errors: {errors}\")\n",
    "        case _:\n",
    "            print(\"Unexpected response format\")\n",
    "\n",
    "except requests.exceptions.RequestException as e:\n",
    "    print(f\"Request failed: {e}\")\n",
    "except json.JSONDecodeError as e:\n",
    "    print(f\"Failed to decode JSON response: {e}\")\n",
    "except Exception as e:\n",
    "    print(f\"An unexpected error occurred: {e}\")"
   ]
  },
  {
   "cell_type": "markdown",
   "id": "035a342a",
   "metadata": {},
   "source": [
    "### A get user example."
   ]
  },
  {
   "cell_type": "code",
   "execution_count": 8,
   "id": "142bc1a1",
   "metadata": {},
   "outputs": [
    {
     "name": "stdout",
     "output_type": "stream",
     "text": [
      "<Response [200]>\n",
      "{\"isAuthorized\": true}\n",
      "CPU times: total: 0 ns\n",
      "Wall time: 97.3 ms\n"
     ]
    }
   ],
   "source": [
    "%%time \n",
    "response = requests.post(api_url + '/authorize', \n",
    "                         data=json.dumps({\"user_name\": user.get('user_name'), \"password\": user.get('password')}),\n",
    "                         headers=user_headers)\n",
    "\n",
    "print(response)\n",
    "print(response.text)"
   ]
  },
  {
   "cell_type": "code",
   "execution_count": 4,
   "id": "368c6fae",
   "metadata": {},
   "outputs": [
    {
     "name": "stdout",
     "output_type": "stream",
     "text": [
      "User Name: a_user\n",
      "Role: user\n"
     ]
    }
   ],
   "source": [
    "# GraphQL query or mutation\n",
    "graphql_query = \"\"\"\n",
    "    query MyQuery($user_name: ID!) {\n",
    "        getUser(user_name: $user_name) {\n",
    "            user_name\n",
    "            role\n",
    "            \n",
    "        }\n",
    "    }\n",
    "\"\"\"\n",
    "\n",
    "variables = {\n",
    "    \"user_name\": \"a_user\"\n",
    "}\n",
    "\n",
    "# Request payload\n",
    "payload = {\n",
    "    \"query\": graphql_query,\n",
    "    \"variables\": variables\n",
    "}\n",
    "\n",
    "# Request headers\n",
    "headers = {\n",
    "    \"Content-Type\": \"application/json\",\n",
    "    \"x-api-key\": api_key\n",
    "}\n",
    "\n",
    "# Make the HTTP request\n",
    "try:\n",
    "    response = requests.post(api_url + '/get_user', data=json.dumps(payload), headers=headers)\n",
    "    response.raise_for_status()\n",
    "    json_response = response.json()\n",
    "    match json_response:\n",
    "        case {'data': {'getUser': {'user_name': user_name, 'role': role}}}:\n",
    "            print(f\"User Name: {user_name}\")\n",
    "            print(f\"Role: {role}\")\n",
    "        case {'errors': errors}:\n",
    "            print(f\"Errors: {errors}\")\n",
    "        case _:\n",
    "            print(\"Unexpected response format\")\n",
    "\n",
    "except requests.exceptions.RequestException as e:\n",
    "    print(f\"Request failed: {e}\")\n",
    "except json.JSONDecodeError as e:\n",
    "    print(f\"Failed to decode JSON response: {e}\")\n",
    "except Exception as e:\n",
    "    print(f\"An unexpected error occurred: {e}\")"
   ]
  }
 ],
 "metadata": {
  "kernelspec": {
   "display_name": "vent",
   "language": "python",
   "name": "python3"
  },
  "language_info": {
   "codemirror_mode": {
    "name": "ipython",
    "version": 3
   },
   "file_extension": ".py",
   "mimetype": "text/x-python",
   "name": "python",
   "nbconvert_exporter": "python",
   "pygments_lexer": "ipython3",
   "version": "3.12.3"
  }
 },
 "nbformat": 4,
 "nbformat_minor": 5
}
