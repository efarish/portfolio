{
 "cells": [
  {
   "cell_type": "markdown",
   "metadata": {},
   "source": [
    "## Testing The AWS HTTP API Endpoint\n",
    "\n",
    "After deploying the endpoint application to AWS as specified in this distribution's README file, this notebook can be used to test it."
   ]
  },
  {
   "cell_type": "markdown",
   "metadata": {},
   "source": [
    "### Specify the API Gateway URL\n",
    "\n",
    "In the AWS console, go to the API Gateway service, select the deployed API, and go to the API details screen.  Copy the invocation URL and set the variable below to the URL. The URL in API Gateway will have the format specified below."
   ]
  },
  {
   "cell_type": "code",
   "execution_count": null,
   "metadata": {},
   "outputs": [],
   "source": [
    "api = 'https://<An AWS randomly generated ID>.execute-api.<ACCOUNT REGION>.amazonaws.com'"
   ]
  },
  {
   "cell_type": "markdown",
   "metadata": {},
   "source": [
    "### Call GET on Lambda Function\n",
    "\n",
    "Lets test the GET route. The response is constructed in the `app.py` file's `lambda_handler` function."
   ]
  },
  {
   "cell_type": "code",
   "execution_count": 2,
   "metadata": {},
   "outputs": [
    {
     "name": "stdout",
     "output_type": "stream",
     "text": [
      "response.status_code=200\n",
      "response.text='\"Get info called!\"'\n"
     ]
    }
   ],
   "source": [
    "import requests\n",
    "\n",
    "url = api + '/getInfo'\n",
    "response = requests.get(url)\n",
    "print(f'{response.status_code=}')\n",
    "print(f'{response.text=}')\n"
   ]
  },
  {
   "cell_type": "markdown",
   "metadata": {},
   "source": [
    "### Post Image to Lambda Function - Post An Image File\n",
    "\n",
    "Now test the `/upload` route. The Lambda handler code expects the body of the post to be an image. The handler extracts, decodes, and posts the image to the S3 bucket specified in the `.env` found int the `upload` folder. The image in the S3 bucket will have the key `IMG_{YYYMMDD_HHMMSS}.png`."
   ]
  },
  {
   "cell_type": "code",
   "execution_count": 3,
   "metadata": {},
   "outputs": [
    {
     "name": "stdout",
     "output_type": "stream",
     "text": [
      "Image uploaded successfully!\n",
      "response.status_code=200\n",
      "response.text='Detected labels:\\nLabel: Sunflower, Conf: 100.0\\nLabel: Daisy, Conf: 71.3'\n"
     ]
    }
   ],
   "source": [
    "import requests\n",
    "\n",
    "url = api + '/upload'\n",
    "file_path = './sunflower1.jpg'\n",
    "\n",
    "with open(file_path, 'rb') as image_file:\n",
    "    response = requests.post(url, data=image_file)\n",
    "\n",
    "if response.status_code == 200:\n",
    "    print(\"Image uploaded successfully!\")\n",
    "else:\n",
    "    print(\"Error uploading image:\", response.status_code)\n",
    "\n",
    "print(f'{response.status_code=}')\n",
    "print(f'{response.text=}')"
   ]
  },
  {
   "cell_type": "markdown",
   "metadata": {},
   "source": [
    "### Post Image to Lambda Function - Post JSON document containing Image \n",
    "\n",
    "Now lets test the `/upload2` route. This is similar to the `/upload` route, except the handler code for this route expects the body to be a JSON encoded Python dictionary. Once decoded, the image is retrieved from the dictionary and posted to the S3 bucket."
   ]
  },
  {
   "cell_type": "code",
   "execution_count": 8,
   "metadata": {},
   "outputs": [
    {
     "name": "stdout",
     "output_type": "stream",
     "text": [
      "Image uploaded successfully!\n",
      "response.status_code=200\n",
      "response.text='\"Post 2 called!\"'\n"
     ]
    }
   ],
   "source": [
    "import requests\n",
    "import base64\n",
    "import json\n",
    "import base64\n",
    "import json\n",
    "\n",
    "def serialize_image(file_path):\n",
    "    with open(file_path, 'rb') as image_file:\n",
    "        encoded_image = base64.b64encode(image_file.read()).decode('utf-8') \n",
    "    data = {'image': encoded_image}\n",
    "    json_string = json.dumps(data)\n",
    "    return json_string\n",
    "\n",
    "url = api + '/upload2'\n",
    "file_path = \"./bkr.png\"\n",
    "\n",
    "data = serialize_image(file_path)\n",
    "response = requests.post(url, data=data)\n",
    "\n",
    "if response.status_code == 200:\n",
    "    print(\"Image uploaded successfully!\")\n",
    "else:\n",
    "    print(\"Error uploading image:\", response.status_code)\n",
    "\n",
    "print(f'{response.status_code=}')\n",
    "print(f'{response.text=}')"
   ]
  }
 ],
 "metadata": {
  "kernelspec": {
   "display_name": "sam_lambda_s3-Gqq_pQ3K",
   "language": "python",
   "name": "python3"
  },
  "language_info": {
   "codemirror_mode": {
    "name": "ipython",
    "version": 3
   },
   "file_extension": ".py",
   "mimetype": "text/x-python",
   "name": "python",
   "nbconvert_exporter": "python",
   "pygments_lexer": "ipython3",
   "version": "3.12.3"
  }
 },
 "nbformat": 4,
 "nbformat_minor": 2
}
