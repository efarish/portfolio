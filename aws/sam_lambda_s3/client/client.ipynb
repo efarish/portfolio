{
 "cells": [
  {
   "cell_type": "markdown",
   "metadata": {},
   "source": [
    "### API Gateway URL"
   ]
  },
  {
   "cell_type": "code",
   "execution_count": 6,
   "metadata": {},
   "outputs": [],
   "source": [
    "api = 'https://11cgm5bwf6.execute-api.us-east-1.amazonaws.com'"
   ]
  },
  {
   "cell_type": "markdown",
   "metadata": {},
   "source": [
    "### Call GET on Lambda Function"
   ]
  },
  {
   "cell_type": "code",
   "execution_count": 7,
   "metadata": {},
   "outputs": [
    {
     "name": "stdout",
     "output_type": "stream",
     "text": [
      "response.status_code=200\n",
      "response.text='\"Get info called!\"'\n"
     ]
    }
   ],
   "source": [
    "import requests\n",
    "\n",
    "url = api + '/getInfo'\n",
    "response = requests.get(url)\n",
    "print(f'{response.status_code=}')\n",
    "print(f'{response.text=}')\n"
   ]
  },
  {
   "cell_type": "markdown",
   "metadata": {},
   "source": [
    "### Post Image to Lambda Function - Post Image\n",
    "\n",
    "\n",
    "IMG_{YYYMMDD_HHMMSS}.png"
   ]
  },
  {
   "cell_type": "code",
   "execution_count": 8,
   "metadata": {},
   "outputs": [
    {
     "name": "stdout",
     "output_type": "stream",
     "text": [
      "Image uploaded successfully!\n",
      "response.status_code=200\n",
      "response.text='\"Post 1 called!\"'\n"
     ]
    }
   ],
   "source": [
    "import requests\n",
    "import base64\n",
    "\n",
    "url = api + '/upload'\n",
    "file_path = './bkr.png'\n",
    "\n",
    "with open(file_path, 'rb') as image_file:\n",
    "    response = requests.post(url, data=image_file)\n",
    "\n",
    "if response.status_code == 200:\n",
    "    print(\"Image uploaded successfully!\")\n",
    "else:\n",
    "    print(\"Error uploading image:\", response.status_code)\n",
    "\n",
    "print(f'{response.status_code=}')\n",
    "print(f'{response.text=}')"
   ]
  },
  {
   "cell_type": "markdown",
   "metadata": {},
   "source": [
    "### Post Image to Lambda Function - Post JSON document containing Serialized Image "
   ]
  },
  {
   "cell_type": "code",
   "execution_count": 10,
   "metadata": {},
   "outputs": [
    {
     "name": "stdout",
     "output_type": "stream",
     "text": [
      "Image uploaded successfully!\n",
      "response.status_code=200\n",
      "response.text='\"Post 2 called!\"'\n"
     ]
    }
   ],
   "source": [
    "import requests\n",
    "import base64\n",
    "import json\n",
    "import base64\n",
    "import json\n",
    "\n",
    "def serialize_image(file_path):\n",
    "    with open(file_path, 'rb') as image_file:\n",
    "        encoded_image = base64.b64encode(image_file.read()).decode('utf-8') \n",
    "    data = {'image': encoded_image}\n",
    "    json_string = json.dumps(data)\n",
    "    return json_string\n",
    "\n",
    "url = api + '/upload2'\n",
    "file_path = \"./bkr.png\"\n",
    "\n",
    "data = serialize_image(file_path)\n",
    "response = requests.post(url, data=data)\n",
    "\n",
    "if response.status_code == 200:\n",
    "    print(\"Image uploaded successfully!\")\n",
    "else:\n",
    "    print(\"Error uploading image:\", response.status_code)\n",
    "\n",
    "print(f'{response.status_code=}')\n",
    "print(f'{response.text=}')"
   ]
  }
 ],
 "metadata": {
  "kernelspec": {
   "display_name": "sam_lambda_s3-Gqq_pQ3K",
   "language": "python",
   "name": "python3"
  },
  "language_info": {
   "codemirror_mode": {
    "name": "ipython",
    "version": 3
   },
   "file_extension": ".py",
   "mimetype": "text/x-python",
   "name": "python",
   "nbconvert_exporter": "python",
   "pygments_lexer": "ipython3",
   "version": "3.12.3"
  }
 },
 "nbformat": 4,
 "nbformat_minor": 2
}
