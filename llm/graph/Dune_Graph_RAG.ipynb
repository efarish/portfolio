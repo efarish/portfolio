{
 "cells": [
  {
   "cell_type": "markdown",
   "metadata": {},
   "source": [
    "# Introduction"
   ]
  },
  {
   "cell_type": "markdown",
   "metadata": {},
   "source": [
    "The code below uses LangChain, OpenAI, and neo4j to demonstrate the use of knowledge graphs to enhance LLM Retrieval Augmented Generation (RAG).  \n",
    "\n",
    "The first couple chapters of Frank Herbert's 1965 novel Dune will is the source text.\n",
    "\n",
    "The approach used will:\n",
    "\n",
    "1. Identify entities in the RAG request. \n",
    "2. Query a graph database to find related entities and the nature of their relationships.\n",
    "3. Perform a separate vector database similarity search using the request. \n",
    "4. Use the combined search results as the context for processing the RAG request.\n",
    "\n",
    "NOTE: Much of the code for creating the LangChain pipelines below came from a blog post by Tomaz Bratanic which can be found [here](https://medium.com/neo4j/enhancing-the-accuracy-of-rag-applications-with-knowledge-graphs-ad5e2ffab663).\n"
   ]
  },
  {
   "cell_type": "markdown",
   "metadata": {},
   "source": [
    "# Setup "
   ]
  },
  {
   "cell_type": "markdown",
   "metadata": {},
   "source": [
    "The code below imports the needed modules and does some initialization. "
   ]
  },
  {
   "cell_type": "code",
   "execution_count": 1,
   "metadata": {},
   "outputs": [
    {
     "name": "stderr",
     "output_type": "stream",
     "text": [
      "[nltk_data] Downloading package punkt to\n",
      "[nltk_data]     C:\\Users\\woshi\\AppData\\Roaming\\nltk_data...\n",
      "[nltk_data]   Package punkt is already up-to-date!\n"
     ]
    }
   ],
   "source": [
    "import os\n",
    "import re\n",
    "from operator import itemgetter\n",
    "from typing import List\n",
    "import numpy as np\n",
    "import pandas as pd\n",
    "\n",
    "import nltk\n",
    "from dotenv import load_dotenv\n",
    "from langchain.docstore.document import Document\n",
    "from langchain.prompts import PromptTemplate\n",
    "from langchain_community.graphs import Neo4jGraph\n",
    "from langchain_community.vectorstores import Neo4jVector\n",
    "from langchain_community.vectorstores.neo4j_vector import remove_lucene_chars\n",
    "from langchain_core.output_parsers import StrOutputParser\n",
    "from langchain_core.prompts import ChatPromptTemplate\n",
    "from langchain_core.pydantic_v1 import BaseModel, Field\n",
    "from langchain_experimental.graph_transformers import LLMGraphTransformer\n",
    "from langchain_openai import ChatOpenAI, OpenAIEmbeddings\n",
    "from langchain.text_splitter import TokenTextSplitter\n",
    "from langchain_community.vectorstores.utils import DistanceStrategy\n",
    "from langchain_core.runnables import RunnableParallel, RunnablePassthrough, RunnableLambda\n",
    "from neo4j import GraphDatabase\n",
    "from nltk.tokenize import word_tokenize\n",
    "from yfiles_jupyter_graphs import GraphWidget\n",
    "\n",
    "from manage_vector_db import *\n",
    "\n",
    "load_dotenv()\n",
    "nltk.download('punkt')\n",
    "\n",
    "# Get neo4j credentials.\n",
    "neo4j_url =      os.getenv(\"NEO4J_CONNECTION_URL\")\n",
    "neo4j_user =     os.getenv(\"NEO4J_USER\")\n",
    "neo4j_password = os.getenv(\"NEO4J_PASSWORD\")\n",
    "\n",
    "# Use neo4j credentials to set environment variables used by LangChain.\n",
    "os.environ[\"NEO4J_URI\"] =      os.environ[\"NEO4J_CONNECTION_URL\"]\n",
    "os.environ[\"NEO4J_USERNAME\"] = os.environ[\"NEO4J_USER\"]\n",
    "os.environ[\"NEO4J_PASSWORD\"] = os.environ[\"NEO4J_PASSWORD\"]\n",
    "\n",
    "def run(tx, stmt):\n",
    "    \"\"\"\n",
    "    Method to run Cypher statements using neo4j.\n",
    "    \"\"\"\n",
    "    result = tx.run(stmt)\n",
    "    return result.consume()\n",
    "\n",
    "def execute_write(stmt):\n",
    "    \"\"\"\n",
    "    Method to create graph db connection and execute write Cypher statements.\n",
    "    \"\"\"\n",
    "    driver = GraphDatabase.driver(neo4j_url, auth=(neo4j_user, neo4j_password))\n",
    "    with driver.session(database=\"neo4j\") as session:\n",
    "        result_summary = session.execute_write(run, stmt)\n",
    "    driver.close() \n",
    "\n",
    "# directly show the graph resulting from the given Cypher query\n",
    "default_cypher = \"MATCH (s)-[r:!MENTIONS]->(t) RETURN s,r,t LIMIT 50\"\n",
    "\n",
    "def showGraph(cypher: str = default_cypher):\n",
    "    \"\"\"\n",
    "    Function to use ywork graph widget to visualize \n",
    "      graph database.\n",
    "    \"\"\"\n",
    "    driver = GraphDatabase.driver(\n",
    "        uri = os.environ[\"NEO4J_URI\"],\n",
    "        auth = (os.environ[\"NEO4J_USERNAME\"],\n",
    "                os.environ[\"NEO4J_PASSWORD\"]))\n",
    "    session = driver.session()\n",
    "    widget = GraphWidget(graph = session.run(cypher).graph())\n",
    "    widget.node_label_mapping = 'id'\n",
    "    #display(widget)\n",
    "    return widget\n",
    "\n",
    "def create_docs(list_of_text: list[str]) -> list[Document]:\n",
    "    \"\"\"\n",
    "    Utility function to create a list of LangChain documents \n",
    "      from a list of strings. \n",
    "    \"\"\"\n",
    "    docs = []\n",
    "    for idx, chapter in enumerate(list_of_text):\n",
    "        docs.append(Document(page_content=chapter, metadata={\"chapter\": idx+1}))\n",
    "    return docs"
   ]
  },
  {
   "cell_type": "markdown",
   "metadata": {},
   "source": [
    "# Load, Clean, and Split Source Text"
   ]
  },
  {
   "cell_type": "markdown",
   "metadata": {},
   "source": [
    "The text is loaded and cleaned. The text used can be found [here](https://raw.githubusercontent.com/ganesh-k13/shell/master/test_search/www.glozman.com/TextPages/Frank%20Herbert%20-%20Dune.txt)."
   ]
  },
  {
   "cell_type": "code",
   "execution_count": 2,
   "metadata": {},
   "outputs": [],
   "source": [
    "with open('dune.txt', 'r', encoding=\"utf-8\") as f:\n",
    "    text = f.read()\n",
    "# For this file, \"= = = = = =\" separates the chapters.\n",
    "text_split = text.split('= = = = = =')\n",
    "# Exclude appendicies and splits with less than 10 words.\n",
    "cleaned_text = []\n",
    "for idx, line in enumerate(text_split):\n",
    "    if not re.search(\"Appendix .+:\", line) and \\\n",
    "       not re.search('Terminology of the Imperium', line) and \\\n",
    "       len( word_tokenize(line.strip()) ) > 10:\n",
    "       trimmed_line = line.strip()\n",
    "       cleaned_text.append( trimmed_line )\n",
    "# This text file contains spaces before each paragraph extra line feeds.\n",
    "#  The code below cleans that up.\n",
    "for idx, chapter in enumerate(cleaned_text):\n",
    "    cleaned_text[idx] = chapter.replace('\\n    ', '\\n').replace('\\n\\n','\\n')\n",
    "\n",
    "# Create LangChain Document instances.\n",
    "lc_docs = create_docs(cleaned_text) "
   ]
  },
  {
   "cell_type": "markdown",
   "metadata": {},
   "source": [
    "Below are some summary statistics about the documents."
   ]
  },
  {
   "cell_type": "code",
   "execution_count": 3,
   "metadata": {},
   "outputs": [
    {
     "name": "stdout",
     "output_type": "stream",
     "text": [
      "# Chapters: 48\n",
      "Max # words in a chapter: 12,041\n",
      "Min # words: 1,250\n",
      "Average # of words: 4,962\n",
      "Total # of words: 238,169\n"
     ]
    },
    {
     "data": {
      "image/png": "[encoded data removed]",
      "text/plain": [
       "<Figure size 640x480 with 1 Axes>"
      ]
     },
     "metadata": {},
     "output_type": "display_data"
    }
   ],
   "source": [
    "chpt_word_cnts = np.array([len(word_tokenize(chapter.page_content)) for chapter in lc_docs])\n",
    "print(f'# Chapters: {len(chpt_word_cnts)}')\n",
    "print(f'Max # words in a chapter: {chpt_word_cnts.max():,}')\n",
    "print(f'Min # words: {chpt_word_cnts.min():,}')\n",
    "print(f'Average # of words: {chpt_word_cnts.mean():,.0f}')\n",
    "print(f'Total # of words: {chpt_word_cnts.sum():,}')\n",
    "cnt_df = pd.DataFrame(data={'Word Count': chpt_word_cnts/1000})\n",
    "hist = cnt_df.hist(bins=20)"
   ]
  },
  {
   "cell_type": "markdown",
   "metadata": {},
   "source": [
    "Most chapters are somewhere between 4 and 6 thousands words. "
   ]
  },
  {
   "cell_type": "markdown",
   "metadata": {},
   "source": [
    "# Create a Graph Database"
   ]
  },
  {
   "cell_type": "markdown",
   "metadata": {},
   "source": [
    "The LangChain wrapper for neo4j will be used to connect to a local graph database.\n",
    "\n",
    "To limit compute time, only the first two chapters of the book will be used.\n",
    "\n",
    "First, the database is cleared (check your neo4j instance is running) . "
   ]
  },
  {
   "cell_type": "code",
   "execution_count": 4,
   "metadata": {},
   "outputs": [
    {
     "data": {
      "text/plain": [
       "[]"
      ]
     },
     "execution_count": 4,
     "metadata": {},
     "output_type": "execute_result"
    }
   ],
   "source": [
    "graph = Neo4jGraph()\n",
    "graph.query('MATCH (n) DETACH DELETE n')"
   ]
  },
  {
   "cell_type": "markdown",
   "metadata": {},
   "source": [
    "Now the graph database will be populated using LangChain and GPT 3.5 Turbo. \n",
    "\n",
    "The entities created will be limited to people, organizations, planets, and places. The documents will not be added to the graph database.\n",
    "\n",
    "LangChain's `LLMGraphTransformer` will be used to populate the database. \n",
    "\n",
    "While experimenting, I noticed splitting the chapters into chunks of 1000 words resulted in very granular entities begin identified, e.g. `Woman`. To control that, no splitting was done. Each chapter is a document submitted for processing. This resulted in only frequently mentioned entities being included in the knowledge graph. Another approach to address this would be to pass a custom prompt to LangChain, but using chapters as documents was easier in this case."
   ]
  },
  {
   "cell_type": "code",
   "execution_count": 5,
   "metadata": {},
   "outputs": [
    {
     "name": "stdout",
     "output_type": "stream",
     "text": [
      "CPU times: total: 1 s\n",
      "Wall time: 14.2 s\n"
     ]
    }
   ],
   "source": [
    "%%time\n",
    "llm=ChatOpenAI(temperature=0, model_name=\"gpt-3.5-turbo-1106\") \n",
    "llm_transformer = LLMGraphTransformer(llm=llm, \n",
    "                                      allowed_nodes=['Person', 'Oganization', 'Planet', 'Location'],\n",
    "                                      allowed_relationships=['BORN_ON', 'MOTHER_OF', 'FATHER_OF', \n",
    "                                                             'ENEMY_OF', 'LIVES_ON', 'MENTORED', 'CHILD_OF',\n",
    "                                                             'MEMBER_OF', 'RELATIVE_OF','ASSOCIATED_WITH']\n",
    "                                      )\n",
    "graph_documents = llm_transformer.convert_to_graph_documents(lc_docs[:2])\n",
    "graph.add_graph_documents(\n",
    "    graph_documents,\n",
    "    baseEntityLabel=True,\n",
    "    include_source=False\n",
    ")"
   ]
  },
  {
   "cell_type": "markdown",
   "metadata": {},
   "source": [
    "Below is a visualization of the knowledge graph created in the neo4j graph database."
   ]
  },
  {
   "cell_type": "code",
   "execution_count": 6,
   "metadata": {},
   "outputs": [
    {
     "data": {
      "application/vnd.jupyter.widget-view+json": {
       "model_id": "fb9aa3a183184018ba0bebdd7286e10f",
       "version_major": 2,
       "version_minor": 0
      },
      "text/plain": [
       "GraphWidget(layout=Layout(height='670px', width='100%'))"
      ]
     },
     "metadata": {},
     "output_type": "display_data"
    }
   ],
   "source": [
    "showGraph()"
   ]
  },
  {
   "cell_type": "markdown",
   "metadata": {},
   "source": [
    "The yFiles code above inserts a widget into the notebook which can only be viewed if the notebook is run. Below is screenshot of the widget in action."
   ]
  },
  {
   "cell_type": "code",
   "execution_count": 7,
   "metadata": {},
   "outputs": [
    {
     "data": {
      "image/jpeg": "[encoded data removed]",
      "text/plain": [
       "<IPython.core.display.Image object>"
      ]
     },
     "execution_count": 7,
     "metadata": {},
     "output_type": "execute_result"
    }
   ],
   "source": [
    "from IPython.display import Image\n",
    "Image(filename='graph2.jpg')"
   ]
  },
  {
   "cell_type": "markdown",
   "metadata": {},
   "source": [
    "This looks like a goods start for capturing the graph for the first two chapters. But there are problems. Note that the graph direction for Paul's `FATHER_OF` and `MOTHER_OF` are incorrect. This could be fixed using Cypther statements but I'll leave it to make a point later."
   ]
  },
  {
   "cell_type": "markdown",
   "metadata": {},
   "source": [
    "# Query The Knowledge Graph"
   ]
  },
  {
   "cell_type": "markdown",
   "metadata": {},
   "source": [
    "## Create Graph Database Index"
   ]
  },
  {
   "cell_type": "markdown",
   "metadata": {},
   "source": [
    "The code below creates an index in neo4j which will be used later for finding entiites."
   ]
  },
  {
   "cell_type": "code",
   "execution_count": 8,
   "metadata": {},
   "outputs": [],
   "source": [
    "graph = Neo4jGraph()\n",
    "# Index IDs of entities labeled `__Entity__`.\n",
    "graph.query(\"CREATE FULLTEXT INDEX entity IF NOT EXISTS FOR (e:__Entity__) ON EACH [e.id]\");"
   ]
  },
  {
   "cell_type": "markdown",
   "metadata": {},
   "source": [
    "## Create Chain to Identify Entities in a Query"
   ]
  },
  {
   "cell_type": "code",
   "execution_count": 9,
   "metadata": {},
   "outputs": [],
   "source": [
    "llm=ChatOpenAI(temperature=0, model_name=\"gpt-3.5-turbo-1106\") \n",
    "# Extract entities from text\n",
    "class Entities(BaseModel):\n",
    "    \"\"\"Identifying information about entities.\"\"\"\n",
    "\n",
    "    names: List[str] = Field(\n",
    "        ...,\n",
    "        description=\"All the person, organization, or business entities that \"\n",
    "        \"appear in the text\",\n",
    "    )\n",
    "\n",
    "prompt = ChatPromptTemplate.from_messages(\n",
    "    [\n",
    "        (\n",
    "            \"system\",\n",
    "            \"You are extracting organization and person entities from the text.\",\n",
    "        ),\n",
    "        (\n",
    "            \"human\",\n",
    "            \"Use the given format to extract information from the following \"\n",
    "            \"input: {question}\",\n",
    "        ),\n",
    "    ]\n",
    ")\n",
    "\n",
    "entity_chain = prompt | llm.with_structured_output(Entities)"
   ]
  },
  {
   "cell_type": "markdown",
   "metadata": {},
   "source": [
    "Lets test it out."
   ]
  },
  {
   "cell_type": "code",
   "execution_count": 10,
   "metadata": {},
   "outputs": [
    {
     "data": {
      "text/plain": [
       "Entities(names=['Jessica'])"
      ]
     },
     "execution_count": 10,
     "metadata": {},
     "output_type": "execute_result"
    }
   ],
   "source": [
    "dune_query = 'Who is Jessica?'\n",
    "entities = entity_chain.invoke({\"question\": dune_query})\n",
    "entities"
   ]
  },
  {
   "cell_type": "markdown",
   "metadata": {},
   "source": [
    "## Create a Chain to Query the Knowledge Graph"
   ]
  },
  {
   "cell_type": "markdown",
   "metadata": {},
   "source": [
    "The code below will use the entities identified by the `entity_chain` function (defined above) to search for the entity-relationship-entity triplets in the knowledge graph. "
   ]
  },
  {
   "cell_type": "code",
   "execution_count": 11,
   "metadata": {},
   "outputs": [],
   "source": [
    "\n",
    "def generate_full_text_query(input: str) -> str:\n",
    "    \"\"\"\n",
    "    Generate a full-text search query for a given input string.\n",
    "\n",
    "    This function constructs a query string suitable for a full-text search.\n",
    "    It processes the input string by splitting it into words and appending a\n",
    "    similarity threshold (~2 changed characters) to each word, then combines\n",
    "    them using the AND operator. Useful for mapping entities from user questions\n",
    "    to database values, and allows for some misspelings.\n",
    "    \"\"\"\n",
    "    full_text_query = \"\"\n",
    "    words = [el for el in remove_lucene_chars(input).split() if el]\n",
    "    for word in words[:-1]:\n",
    "        full_text_query += f\" {word}~2 AND\"\n",
    "    full_text_query += f\" {words[-1]}~2\"\n",
    "    return full_text_query.strip()\n",
    "\n",
    "# Fulltext index query\n",
    "def structured_retriever(question: str) -> str:\n",
    "    \"\"\"\n",
    "    Collects the neighborhood of entities mentioned\n",
    "    in the question\n",
    "    \"\"\"\n",
    "    result = \"\"\n",
    "    entities = entity_chain.invoke({\"question\": question})\n",
    "    for entity in entities.names:\n",
    "        response = graph.query(\n",
    "            \"\"\"CALL db.index.fulltext.queryNodes('entity', $query, {limit:2})\n",
    "            YIELD node,score\n",
    "            CALL {\n",
    "              WITH node\n",
    "              MATCH (node)-[r]->(neighbor)\n",
    "              RETURN node.id + ' - ' + type(r) + ' -> ' + neighbor.id AS output\n",
    "              UNION ALL\n",
    "              WITH node\n",
    "              MATCH (node)<-[r]-(neighbor)\n",
    "              RETURN neighbor.id + ' - ' + type(r) + ' -> ' +  node.id AS output\n",
    "            }\n",
    "            RETURN output LIMIT 50\n",
    "            \"\"\",\n",
    "            {\"query\": generate_full_text_query(entity)},\n",
    "        )\n",
    "        result += \"\\n\".join([el['output'] for el in response])\n",
    "    return result"
   ]
  },
  {
   "cell_type": "markdown",
   "metadata": {},
   "source": [
    "Lets give it a try."
   ]
  },
  {
   "cell_type": "code",
   "execution_count": 12,
   "metadata": {},
   "outputs": [
    {
     "name": "stdout",
     "output_type": "stream",
     "text": [
      "Paul - MOTHER_OF -> Jessica\n",
      "Baron Vladimir Harkonnen - ASSOCIATED_WITH -> Lady Jessica\n"
     ]
    }
   ],
   "source": [
    "print(structured_retriever(dune_query))"
   ]
  },
  {
   "cell_type": "markdown",
   "metadata": {},
   "source": [
    "# Create a Vector Database"
   ]
  },
  {
   "cell_type": "markdown",
   "metadata": {},
   "source": [
    "LangChain's graph utilities can be used to add source document embedding to the graph database. I decided to keep that out of the knowledge graph due to the large documents used to create the knowledge graph. Therefore, the same source text is used to create the vector database but each chapter is split into 200 token chunks. This should make the similarity search results more relevant to the RAG request."
   ]
  },
  {
   "cell_type": "code",
   "execution_count": 13,
   "metadata": {},
   "outputs": [
    {
     "name": "stdout",
     "output_type": "stream",
     "text": [
      "# of document chunks: 58\n"
     ]
    }
   ],
   "source": [
    "splitter = TokenTextSplitter(encoding_name='gpt2', chunk_size=200, chunk_overlap=10)\n",
    "chpt_1_2_docs = splitter.split_documents(lc_docs[:2])\n",
    "print(f'# of document chunks: {len(chpt_1_2_docs)}')"
   ]
  },
  {
   "cell_type": "markdown",
   "metadata": {},
   "source": [
    "A FAISS vector database is created using a utility function I wrote in the `manage_vector_db.py` script."
   ]
  },
  {
   "cell_type": "code",
   "execution_count": 14,
   "metadata": {},
   "outputs": [
    {
     "name": "stderr",
     "output_type": "stream",
     "text": [
      "WARNING:root:Source directory doesn't exists. Create vector data store...\n"
     ]
    }
   ],
   "source": [
    "vector_db = create_vector_db(chpt_1_2_docs)"
   ]
  },
  {
   "cell_type": "markdown",
   "metadata": {},
   "source": [
    "The `create_vector_db` method returns a LangChain FAISS object which will be used to query the unstructured data."
   ]
  },
  {
   "cell_type": "code",
   "execution_count": 15,
   "metadata": {},
   "outputs": [],
   "source": [
    "def unstructured_search(_query, _num_docs=5, _num_docs_fetch=20):\n",
    "    doc_results = vector_db.similarity_search_with_score(\n",
    "        dune_query,\n",
    "        k=_num_docs,\n",
    "        fetch_k=_num_docs_fetch,\n",
    "        distance_strategy=DistanceStrategy.EUCLIDEAN_DISTANCE,\n",
    "    )\n",
    "    return '\\n\\n'.join([doc[0].page_content for doc in doc_results])"
   ]
  },
  {
   "cell_type": "markdown",
   "metadata": {},
   "source": [
    "Time to test."
   ]
  },
  {
   "cell_type": "code",
   "execution_count": 16,
   "metadata": {},
   "outputs": [
    {
     "name": "stdout",
     "output_type": "stream",
     "text": [
      ". She blamed it on space travel and association with that abominable Spacing Guild and its secretive ways. But here was a mission that required personal attention from a Bene Gesserit-with-the-Sight. Even the Padishah Emperor's Truthsayer couldn't evade that responsibility when the duty call came.\n",
      "Damn that Jessica! the Reverend Mother thought. If only she 'd borne us a girl as she was ordered to do!\n",
      "Jessica stopped three paces from the chair, dropped a small curtsy, a gentle flick of left hand along the line of her skirt. Paul gave the short bow his dancing master had taught -- the one used \"when in doubt of another's station.\"\n",
      "The nuances of Paul's greeting were not lost on the Reverend Mother. She said: \"He's a cautious one, Jessica.\" \n",
      "Jessica's hand went to Paul's shoulder, tightened there. For a heartbeat, fear pulsed through her palm. Then she had\n",
      "\n",
      ". \"Your Reverence, I --\" \n",
      "\"Jessica, you know it must be done.\" \n",
      "Paul looked up at his mother, puzzled. \n",
      "Jessica straightened. \"Yes . . . of course.\"\n",
      "Paul looked back at the Reverend Mother. Politeness and his mother's obvious awe of this old woman argued caution. Yet he felt an angry apprehension at the fear he sensed radiating from his mother.\n",
      "\"Paul . . . \" Jessica took a deep breath. \". . . this test you're about to receive . . . it's important to me.\" \n",
      "\"Test?\" He looked up at her.\n",
      "\"Remember that you're a duke's son, \"Jessica said. She whirled and strode from the room in a dry swishing of skirt. The door closed solidly behind her.\n",
      "Paul faced the old woman, holding anger in check. \"Does one dismiss the Lady Jessica as though she were a serving wench?\" \n",
      "\n"
     ]
    }
   ],
   "source": [
    "print(unstructured_search(dune_query,2,5))"
   ]
  },
  {
   "cell_type": "markdown",
   "metadata": {},
   "source": [
    "# A Graph RAG Search"
   ]
  },
  {
   "cell_type": "markdown",
   "metadata": {},
   "source": [
    "Its time to combine the two context sources: the unstructured vector similarity search results and the structured knowlege graph search results."
   ]
  },
  {
   "cell_type": "markdown",
   "metadata": {},
   "source": [
    "## Create A Context Retriever"
   ]
  },
  {
   "cell_type": "markdown",
   "metadata": {},
   "source": [
    "First, the `retriever` method below will combine the results of a structured and unstructured context search."
   ]
  },
  {
   "cell_type": "code",
   "execution_count": 17,
   "metadata": {},
   "outputs": [],
   "source": [
    "def retriever(input):\n",
    "    \"\"\"\n",
    "    Create the context to be used for a Graph RAG search.\n",
    "    \"\"\"\n",
    "    question =  input['question']\n",
    "    use_unstr = input.get('use_unstr', True)\n",
    "    use_kg =    input.get('use_kg', True)\n",
    "    \n",
    "    structured_data = structured_retriever(question)    if use_kg else ''\n",
    "    unstructured_data = unstructured_search(question,3) if use_unstr else ''\n",
    "    final_data = f'Structured data: \\n{structured_data}\\n\\nUnstructured data: \\n{unstructured_data}'\n",
    "    return final_data"
   ]
  },
  {
   "cell_type": "markdown",
   "metadata": {},
   "source": [
    "Lets test it."
   ]
  },
  {
   "cell_type": "code",
   "execution_count": 18,
   "metadata": {},
   "outputs": [
    {
     "name": "stdout",
     "output_type": "stream",
     "text": [
      "Structured data: \n",
      "Paul - MOTHER_OF -> Jessica\n",
      "Baron Vladimir Harkonnen - ASSOCIATED_WITH -> Lady Jessica\n",
      "\n",
      "Unstructured data: \n",
      ". She blamed it on space travel and association with that abominable Spacing Guild and its secretive ways. But here was a mission that required personal attention from a Bene Gesserit-with-the-Sight. Even the Padishah Emperor's Truthsayer couldn't evade that responsibility when the duty call came.\n",
      "Damn that Jessica! the Reverend Mother thought. If only she 'd borne us a girl as she was ordered to do!\n",
      "Jessica stopped three paces from the chair, dropped a small curtsy, a gentle flick of left hand along the line of her skirt. Paul gave the short bow his dancing master had taught -- the one used \"when in doubt of another's station.\"\n",
      "The nuances of Paul's greeting were not lost on the Reverend Mother. She said: \"He's a cautious one, Jessica.\" \n",
      "Jessica's hand went to Paul's shoulder, tightened there. For a heartbeat, fear pulsed through her palm. Then she had\n",
      "\n",
      ". \"Your Reverence, I --\" \n",
      "\"Jessica, you know it must be done.\" \n",
      "Paul looked up at his mother, puzzled. \n",
      "Jessica straightened. \"Yes . . . of course.\"\n",
      "Paul looked back at the Reverend Mother. Politeness and his mother's obvious awe of this old woman argued caution. Yet he felt an angry apprehension at the fear he sensed radiating from his mother.\n",
      "\"Paul . . . \" Jessica took a deep breath. \". . . this test you're about to receive . . . it's important to me.\" \n",
      "\"Test?\" He looked up at her.\n",
      "\"Remember that you're a duke's son, \"Jessica said. She whirled and strode from the room in a dry swishing of skirt. The door closed solidly behind her.\n",
      "Paul faced the old woman, holding anger in check. \"Does one dismiss the Lady Jessica as though she were a serving wench?\" \n",
      "\n",
      "\n",
      "-eyed into the room. Hardness melted from her as she saw Paul. She managed a faint smile.\n",
      "\"Jessica, have you ever stopped hating me?\" the old woman asked.\n",
      "\"I both love and hate you,\" Jessica said. \"The hate -- that's from pains I must never forget. The love -- that's . . . \" \n",
      "\"Just the basic fact,\" the old woman said, but her voice was gentle. \"You may come in now, but remain silent. Close that door and mind it that no one interrupts us.\"\n",
      "Jessica stepped into the room, closed the door and stood with her back to it. My son lives, she thought. My son lives and is . . . human. I knew he was . . . but . . . he lives. Now, I can go on living. The door felt hard and real against her back. Everything in the room was immediate and pressing against her senses. \n",
      "My son lives.\n",
      "\n"
     ]
    }
   ],
   "source": [
    "context = retriever({'question': dune_query})\n",
    "print(context)"
   ]
  },
  {
   "cell_type": "markdown",
   "metadata": {},
   "source": [
    "## Create Graph RAG Chain "
   ]
  },
  {
   "cell_type": "markdown",
   "metadata": {},
   "source": [
    "The code below creates a RAG pipline that combines the unstructured vector similarity and the knowlege graph results."
   ]
  },
  {
   "cell_type": "code",
   "execution_count": 19,
   "metadata": {},
   "outputs": [],
   "source": [
    "from langchain.globals import set_debug\n",
    "set_debug(False)\n",
    "\n",
    "def print_me(inputs):\n",
    "    print(f'Inputs: {inputs}')\n",
    "    return inputs\n",
    "\n",
    "template = \"\"\"Answer the question based only on the following context:\n",
    "{context}\n",
    "\n",
    "Question: {question}\n",
    "Use natural language and be concise.\n",
    "Answer:\"\"\"\n",
    "prompt = PromptTemplate.from_template(template)\n",
    "\n",
    "llm = ChatOpenAI(temperature=0, model_name=\"gpt-3.5-turbo-1106\") #gpt-3.5-turbo-1106 gpt-4o\n",
    "\n",
    "chain = prompt | llm | StrOutputParser()\n",
    "\n",
    "chain = (RunnableLambda(print_me) |\n",
    "         RunnableParallel(\n",
    "             {\n",
    "                 \"context\": retriever,\n",
    "                 \"question\": itemgetter(\"question\")\n",
    "             }\n",
    "    )\n",
    "    | prompt\n",
    "    | llm\n",
    "    | StrOutputParser()\n",
    ")\n",
    "\n",
    "def compare_context(_query):\n",
    "    \"\"\"\n",
    "    Compare using unstructured and knowlege graph sources.\n",
    "    \"\"\"\n",
    "    print('#1 ---')\n",
    "    print( chain.invoke({\"question\": _query, \"use_unstr\": True,  \"use_kg\": True}) )\n",
    "    print('#2 ---')\n",
    "    print( chain.invoke({\"question\": _query, \"use_unstr\": False, \"use_kg\": True}) )\n",
    "    print('#3 ---')\n",
    "    print( chain.invoke({\"question\": _query, \"use_unstr\": True,  \"use_kg\": False}) )"
   ]
  },
  {
   "cell_type": "code",
   "execution_count": 20,
   "metadata": {},
   "outputs": [
    {
     "name": "stdout",
     "output_type": "stream",
     "text": [
      "#1 ---\n",
      "Inputs: {'question': 'Who is Jessica?', 'use_unstr': True, 'use_kg': True}\n",
      "Jessica is the mother of Paul and an important figure in the story.\n",
      "#2 ---\n",
      "Inputs: {'question': 'Who is Jessica?', 'use_unstr': False, 'use_kg': True}\n",
      "Jessica is the daughter of Paul's mother and is associated with Baron Vladimir Harkonnen.\n",
      "#3 ---\n",
      "Inputs: {'question': 'Who is Jessica?', 'use_unstr': True, 'use_kg': False}\n",
      "Jessica is a character in the text.\n"
     ]
    }
   ],
   "source": [
    "compare_context(dune_query)"
   ]
  },
  {
   "cell_type": "markdown",
   "metadata": {},
   "source": [
    "Notice the different results. The first RAG request uses both the unstructured similarity and knowledge graph search results. The second RAG request only uses the graph relationships. The LLM in the second request is more informative. This is probably because its easier to describe someone by their relationships to others. More nuanced questions would probably do a better job of utilizing both context sources. The last request which only uses the unstructured context was the least informative. \n",
    "\n",
    "What's also interesting is that the second request expressed the incorrect family relationship discussed above when the graph database was populated. This not only shows that knowledge graphs created using these techniques need domain expert review, but also that the unstructured context can be used to fix incorrect relationships in the graph at request time."
   ]
  },
  {
   "cell_type": "markdown",
   "metadata": {},
   "source": [
    "# Conclusion"
   ]
  },
  {
   "cell_type": "markdown",
   "metadata": {},
   "source": [
    "The results provide evidence of the benefits of enhancing RAG requests with knowledge graphs. A knowledge graph can not only supplement the unstructured context, but the unstructured context can improve knowledge graph only results."
   ]
  }
 ],
 "metadata": {
  "kernelspec": {
   "display_name": "Python 3 (ipykernel)",
   "language": "python",
   "name": "python3"
  },
  "language_info": {
   "codemirror_mode": {
    "name": "ipython",
    "version": 3
   },
   "file_extension": ".py",
   "mimetype": "text/x-python",
   "name": "python",
   "nbconvert_exporter": "python",
   "pygments_lexer": "ipython3",
   "version": "3.12.3"
  }
 },
 "nbformat": 4,
 "nbformat_minor": 4
}
