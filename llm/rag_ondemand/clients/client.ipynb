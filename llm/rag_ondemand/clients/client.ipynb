{
 "cells": [
  {
   "cell_type": "code",
   "execution_count": 1,
   "id": "3ffc80fe",
   "metadata": {},
   "outputs": [
    {
     "name": "stdout",
     "output_type": "stream",
     "text": [
      "response.status_code=200\n",
      "response.text='{\"statusCode\":200,\"body\":\"The app is up!\"}'\n"
     ]
    }
   ],
   "source": [
    "import requests\n",
    "import textwrap\n",
    "from IPython.display import display, Markdown\n",
    "\n",
    "def long_print(msg: str):\n",
    "    wrapped_text = textwrap.fill(msg, width=140, replace_whitespace=False)\n",
    "    print(wrapped_text)\n",
    "\n",
    "api = 'http://localhost:80'\n",
    "\n",
    "url = api + '/'\n",
    "response = requests.get(url)\n",
    "print(f'{response.status_code=}')\n",
    "print(f'{response.text=}')"
   ]
  },
  {
   "cell_type": "code",
   "execution_count": 2,
   "id": "dc09a103",
   "metadata": {},
   "outputs": [
    {
     "name": "stdout",
     "output_type": "stream",
     "text": [
      "Session Id: 94be4c13-5d21-4078-8bc1-7e7bea8d427b\n"
     ]
    }
   ],
   "source": [
    "url = api + '/create_session'\n",
    "response = requests.get(url)\n",
    "session_id = response.json()['session_id']\n",
    "print(f'Session Id: {session_id}')"
   ]
  },
  {
   "cell_type": "code",
   "execution_count": 3,
   "id": "993e1f9a",
   "metadata": {},
   "outputs": [],
   "source": [
    "import httpx\n",
    "import os\n",
    "\n",
    "files = ['https://arxiv.org/pdf/2505.10543']\n",
    "\n",
    "os.makedirs('./data', exist_ok=True)\n",
    "\n",
    "for idx, f in enumerate(files):\n",
    "    file_name = f\"./data/{f.split(\"/\")[-1]}.pdf\"\n",
    "    if not os.path.exists(file_name):\n",
    "        r = httpx.get(f, timeout=20)\n",
    "        with open(file_name, 'wb') as f:\n",
    "            f.write(r.content)"
   ]
  },
  {
   "cell_type": "code",
   "execution_count": 4,
   "id": "7c1bd236",
   "metadata": {},
   "outputs": [
    {
     "name": "stdout",
     "output_type": "stream",
     "text": [
      "Image uploaded successfully!\n",
      "{'statusCode': 201, 'body': 'File 2505.10543.pdf uploaded.'}\n"
     ]
    }
   ],
   "source": [
    "url = api + '/upload'\n",
    "file_path = './data/' + files[0].split(\"/\")[-1] + \".pdf\"\n",
    "\n",
    "with open(file_path, 'rb') as image_file:\n",
    "    data = {\"session_id\": session_id}\n",
    "    files = {\"file\": (file_path, image_file)}\n",
    "    response = requests.post(url, data=data, files=files)\n",
    "\n",
    "if response.status_code == 200:\n",
    "    print(\"Image uploaded successfully!\")\n",
    "else:\n",
    "    print(\"Error uploading image:\", response.status_code)\n",
    "\n",
    "print(response.json())"
   ]
  },
  {
   "cell_type": "code",
   "execution_count": 5,
   "id": "d261c798",
   "metadata": {},
   "outputs": [
    {
     "name": "stdout",
     "output_type": "stream",
     "text": [
      "<Response [200]>\n",
      "CPU times: user 3.88 ms, sys: 2.49 ms, total: 6.37 ms\n",
      "Wall time: 5.35 s\n"
     ]
    }
   ],
   "source": [
    "%%time\n",
    "url = api + '/prepare'\n",
    "\n",
    "data = {\"session_id\": session_id, \"recreate\": False}\n",
    "response = requests.post(url, json=data)\n",
    "\n",
    "print(response)"
   ]
  },
  {
   "cell_type": "code",
   "execution_count": 6,
   "id": "7c1f2ba9",
   "metadata": {},
   "outputs": [
    {
     "data": {
      "text/markdown": [
       "\"Here’s a concise summary of the document:<br><br>• Goal and scope  <br>  – Evaluates large language models (LLMs) in dynamic environments using prompting techniques.  <br>  – Studies failure modes and investigates enhancements for planning, reasoning, and decision-making tasks.<br><br>• Key findings  <br>  – Larger models generally outperform smaller ones, but strategic prompting (e.g. chain-of-thought) further boosts performance.  <br>  – Advanced reasoning prompts improve results but can introduce instability.  <br>  – LLMs still struggle with tasks requiring multi-step planning, hierarchical reasoning, and long-term strategy.<br><br>• Task modifications and benchmarks  <br>  – Adaptations of classic puzzles (Tower of Hanoi, Messenger) reveal specific failure patterns and areas for improvement.  <br>  – Emphasizes moving beyond static benchmarks to dynamic, interactive tasks that better reflect real-world challenges.<br><br>• Broader context and related work  <br>  – Reviews research on grounded language learning, reinforcement learning, interactive decision making, and symbolic reasoning with LLMs.  <br>  – Highlights the need for novel evaluation frameworks and approaches to address current limitations.<br><br>Overall, while prompting and larger scale help, there remains a significant gap in LLMs’ ability to plan and reason in dynamic, interactive settings.\""
      ],
      "text/plain": [
       "<IPython.core.display.Markdown object>"
      ]
     },
     "metadata": {},
     "output_type": "display_data"
    }
   ],
   "source": [
    "url = api + '/query'\n",
    "\n",
    "data = {\"session_id\": session_id, \"query\": \"Summarize the document.\"}\n",
    "response = requests.post(url, json=data)\n",
    "display(Markdown(response.text.replace(\"\\\\n\", \"<br>\")))"
   ]
  },
  {
   "cell_type": "code",
   "execution_count": 7,
   "id": "064fbd80",
   "metadata": {},
   "outputs": [
    {
     "data": {
      "text/markdown": [
       "\"We evaluated our methods across four very different simulated tasks, each designed to probe a distinct aspect of sequential decision‐making and language understanding:<br><br>1. Bandit  <br>   • A classic multi‐armed bandit setup in which the agent repeatedly chooses among a set of “slot machines” (arms) with unknown reward probabilities.  <br>   • The core challenge is to balance exploration (trying out less familiar arms) versus exploitation (pulling the arm believed to yield the highest payoff).<br><br>2. Rock Paper Scissors  <br>   • A repeated zero‐sum game against an adaptive opponent.  <br>   • Success requires (a) following high‐level strategic instructions, (b) learning the opponent’s play patterns over time, and (c) handling long contextual sequences of past moves to plan your next throw.<br><br>3. Tower of Hanoi  <br>   • A three‐rod, three‐disk puzzle where the goal is to transfer the entire stack from one rod to another.  <br>   • The agent must plan a sequence of moves under the hard constraint that no larger disk may ever sit atop a smaller one.  <br>   • This tests spatial reasoning, hierarchical planning, and constraint‐aware decision making.<br><br>4. Messenger  <br>   • A navigation‐and‐delivery task on a grid with obstacles and (sometimes) moving enemies.  <br>   • Instructions are given in natural language and often involve synonyms (e.g., “exit” vs. “way out,” “foe” vs. “enemy”).  <br>   • The agent must parse these linguistic cues, map them onto actionable moves, avoid hazards, and deliver the message to its goal location.<br><br>Together, these four environments span pure exploration‐exploitation, strategic game play, hierarchical spatial planning, and grounded language understanding.\""
      ],
      "text/plain": [
       "<IPython.core.display.Markdown object>"
      ]
     },
     "metadata": {},
     "output_type": "display_data"
    }
   ],
   "source": [
    "data = {\"session_id\": session_id, \"query\": \"Describe the test environment used for the experiments.\"}\n",
    "response = requests.post(url, json=data)\n",
    "display(Markdown(response.text.replace(\"\\\\n\", \"<br>\")))"
   ]
  }
 ],
 "metadata": {
  "kernelspec": {
   "display_name": ".venv",
   "language": "python",
   "name": "python3"
  },
  "language_info": {
   "codemirror_mode": {
    "name": "ipython",
    "version": 3
   },
   "file_extension": ".py",
   "mimetype": "text/x-python",
   "name": "python",
   "nbconvert_exporter": "python",
   "pygments_lexer": "ipython3",
   "version": "3.13.3"
  }
 },
 "nbformat": 4,
 "nbformat_minor": 5
}
