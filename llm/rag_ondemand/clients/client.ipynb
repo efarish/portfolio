{
 "cells": [
  {
   "cell_type": "code",
   "execution_count": null,
   "id": "3ffc80fe",
   "metadata": {},
   "outputs": [
    {
     "name": "stdout",
     "output_type": "stream",
     "text": [
      "response.status_code=200\n",
      "response.text='{\"statusCode\":200,\"body\":\"The app is up!\"}'\n"
     ]
    }
   ],
   "source": [
    "import requests\n",
    "import textwrap\n",
    "from IPython.display import display, Markdown\n",
    "\n",
    "def long_print(msg: str):\n",
    "    wrapped_text = textwrap.fill(msg, width=140, replace_whitespace=False)\n",
    "    print(wrapped_text)\n",
    "\n",
    "api = 'http://localhost:80'\n",
    "\n",
    "url = api + '/'\n",
    "response = requests.get(url)\n",
    "print(f'{response.status_code=}')\n",
    "print(f'{response.text=}')"
   ]
  },
  {
   "cell_type": "code",
   "execution_count": 2,
   "id": "dc09a103",
   "metadata": {},
   "outputs": [
    {
     "name": "stdout",
     "output_type": "stream",
     "text": [
      "Session Id: 35a6e742-c456-4aef-839e-1ce6b95c4163\n"
     ]
    }
   ],
   "source": [
    "url = api + '/create_session'\n",
    "response = requests.get(url)\n",
    "session_id = response.json()['session_id']\n",
    "print(f'Session Id: {session_id}')"
   ]
  },
  {
   "cell_type": "code",
   "execution_count": 3,
   "id": "993e1f9a",
   "metadata": {},
   "outputs": [],
   "source": [
    "import httpx\n",
    "import os\n",
    "\n",
    "files = ['https://arxiv.org/pdf/2505.10543']\n",
    "\n",
    "os.makedirs('./data', exist_ok=True)\n",
    "\n",
    "for idx, f in enumerate(files):\n",
    "    file_name = f\"./data/{f.split(\"/\")[-1]}.pdf\"\n",
    "    if not os.path.exists(file_name):\n",
    "        r = httpx.get(f, timeout=20)\n",
    "        with open(file_name, 'wb') as f:\n",
    "            f.write(r.content)"
   ]
  },
  {
   "cell_type": "code",
   "execution_count": null,
   "id": "7c1bd236",
   "metadata": {},
   "outputs": [
    {
     "name": "stdout",
     "output_type": "stream",
     "text": [
      "Image uploaded successfully!\n",
      "{'statusCode': 201, 'body': 'File 2505.10543.pdf uploaded.'}\n"
     ]
    }
   ],
   "source": [
    "url = api + '/upload'\n",
    "file_path = './data/2505.10543.pdf'\n",
    "\n",
    "with open(file_path, 'rb') as image_file:\n",
    "    data = {\"session_id\": session_id}\n",
    "    files = {\"file\": (file_path, image_file)}\n",
    "    response = requests.post(url, data=data, files=files)\n",
    "\n",
    "if response.status_code == 200:\n",
    "    print(\"Image uploaded successfully!\")\n",
    "else:\n",
    "    print(\"Error uploading image:\", response.status_code)\n",
    "\n",
    "print(response.json())"
   ]
  },
  {
   "cell_type": "code",
   "execution_count": 43,
   "id": "d261c798",
   "metadata": {},
   "outputs": [
    {
     "name": "stdout",
     "output_type": "stream",
     "text": [
      "<Response [200]>\n",
      "CPU times: user 3.16 ms, sys: 2.71 ms, total: 5.87 ms\n",
      "Wall time: 115 ms\n"
     ]
    }
   ],
   "source": [
    "%%time\n",
    "url = api + '/prepare'\n",
    "\n",
    "data = {\"session_id\": session_id, \"recreate\": False}\n",
    "response = requests.post(url, json=data)\n",
    "\n",
    "print(response)"
   ]
  },
  {
   "cell_type": "code",
   "execution_count": null,
   "id": "7c1f2ba9",
   "metadata": {},
   "outputs": [],
   "source": [
    "url = api + '/query'\n",
    "\n",
    "data = {\"session_id\": session_id, \"query\": \"Summarize the document.\"}\n",
    "response = requests.post(url, json=data)"
   ]
  },
  {
   "cell_type": "code",
   "execution_count": null,
   "id": "064fbd80",
   "metadata": {},
   "outputs": [
    {
     "data": {
      "text/markdown": [
       "\"Here’s a concise summary of the document:<br><br>1. Purpose  <br>   - Evaluates large language models (LLMs) on reasoning tasks using advanced prompting strategies (self-reflection, heuristic mutation, planning).<br><br>2. Key Findings  <br>   - Scaling up model size generally improves reasoning performance.  <br>   - Advanced prompting can help smaller models catch up on complex tasks but may hurt them on simpler ones.  <br>   - Excessive reasoning traces can reduce small-model performance on basic tasks.  <br>   - Current benchmarks don’t fully capture real-world reasoning complexity.<br><br>3. Implications  <br>   - Strategic prompting narrows the gap between small and large models but has trade-offs.  <br>   - There’s limited evidence that LLMs truly self-improve or generalize reasoning to new dynamic tasks.  <br>   - Future work should develop more robust benchmarks and explore hybrid approaches.<br><br>4. Broader Context  <br>   - Reviews various research on language-model applications:  <br>     • Language understanding & QA  <br>     • Quantitative problem solving  <br>     • Reinforcement learning & planning  <br>     • Interactive decision-making & multi-agent environments  <br>   - Discusses training with human feedback, the impact of input length, and emerging LLM-based agent capabilities.\""
      ],
      "text/plain": [
       "<IPython.core.display.Markdown object>"
      ]
     },
     "metadata": {},
     "output_type": "display_data"
    }
   ],
   "source": [
    "display(Markdown(response.text.replace(\"\\\\n\", \"<br>\")))"
   ]
  }
 ],
 "metadata": {
  "kernelspec": {
   "display_name": ".venv",
   "language": "python",
   "name": "python3"
  },
  "language_info": {
   "codemirror_mode": {
    "name": "ipython",
    "version": 3
   },
   "file_extension": ".py",
   "mimetype": "text/x-python",
   "name": "python",
   "nbconvert_exporter": "python",
   "pygments_lexer": "ipython3",
   "version": "3.13.3"
  }
 },
 "nbformat": 4,
 "nbformat_minor": 5
}
