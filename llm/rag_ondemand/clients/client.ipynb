{
 "cells": [
  {
   "cell_type": "code",
   "execution_count": 14,
   "id": "3ffc80fe",
   "metadata": {},
   "outputs": [
    {
     "name": "stdout",
     "output_type": "stream",
     "text": [
      "response.status_code=200\n",
      "response.text='{\"statusCode\":200,\"body\":\"The app is up!\"}'\n"
     ]
    }
   ],
   "source": [
    "import requests\n",
    "import textwrap\n",
    "from IPython.display import display, Markdown\n",
    "\n",
    "def long_print(msg: str):\n",
    "    wrapped_text = textwrap.fill(msg, width=140, replace_whitespace=False)\n",
    "    print(wrapped_text)\n",
    "\n",
    "#api = 'http://localhost:80'\n",
    "api = 'https://6mwjc1d8be.execute-api.us-east-1.amazonaws.com'\n",
    "\n",
    "url = api + '/'\n",
    "response = requests.get(url)\n",
    "print(f'{response.status_code=}')\n",
    "print(f'{response.text=}')"
   ]
  },
  {
   "cell_type": "code",
   "execution_count": 15,
   "id": "dc09a103",
   "metadata": {},
   "outputs": [
    {
     "name": "stdout",
     "output_type": "stream",
     "text": [
      "Session Id: c8569d8f-8b0a-4865-85ec-5fa02183f2e8\n"
     ]
    }
   ],
   "source": [
    "url = api + '/create_session'\n",
    "response = requests.get(url)\n",
    "session_id = response.json()['session_id']\n",
    "print(f'Session Id: {session_id}')"
   ]
  },
  {
   "cell_type": "code",
   "execution_count": 16,
   "id": "993e1f9a",
   "metadata": {},
   "outputs": [],
   "source": [
    "import httpx\n",
    "import os\n",
    "\n",
    "files = ['https://arxiv.org/pdf/2505.10543']\n",
    "\n",
    "os.makedirs('./data', exist_ok=True)\n",
    "\n",
    "for idx, f in enumerate(files):\n",
    "    file_name = f\"./data/{f.split(\"/\")[-1]}.pdf\"\n",
    "    if not os.path.exists(file_name):\n",
    "        r = httpx.get(f, timeout=20)\n",
    "        with open(file_name, 'wb') as f:\n",
    "            f.write(r.content)"
   ]
  },
  {
   "cell_type": "code",
   "execution_count": 17,
   "id": "7c1bd236",
   "metadata": {},
   "outputs": [
    {
     "name": "stdout",
     "output_type": "stream",
     "text": [
      "Image uploaded successfully!\n",
      "{'statusCode': 201, 'body': 'File 2505.10543.pdf uploaded.'}\n"
     ]
    }
   ],
   "source": [
    "url = api + '/upload'\n",
    "file_path = './data/' + files[0].split(\"/\")[-1] + \".pdf\"\n",
    "\n",
    "with open(file_path, 'rb') as image_file:\n",
    "    data = {\"session_id\": session_id}\n",
    "    files = {\"file\": (file_path, image_file)}\n",
    "    response = requests.post(url, data=data, files=files)\n",
    "\n",
    "if response.status_code == 200:\n",
    "    print(\"Image uploaded successfully!\")\n",
    "else:\n",
    "    print(\"Error uploading image:\", response.status_code)\n",
    "\n",
    "print(response.json())"
   ]
  },
  {
   "cell_type": "code",
   "execution_count": 18,
   "id": "d261c798",
   "metadata": {},
   "outputs": [
    {
     "name": "stdout",
     "output_type": "stream",
     "text": [
      "<Response [200]>\n",
      "CPU times: total: 0 ns\n",
      "Wall time: 3.77 s\n"
     ]
    }
   ],
   "source": [
    "%%time\n",
    "url = api + '/prepare'\n",
    "\n",
    "data = {\"session_id\": session_id, \"recreate\": False}\n",
    "response = requests.post(url, json=data)\n",
    "\n",
    "print(response)"
   ]
  },
  {
   "cell_type": "code",
   "execution_count": 19,
   "id": "7c1f2ba9",
   "metadata": {},
   "outputs": [
    {
     "data": {
      "text/markdown": [
       "\"Here’s a concise summary of the document:<br><br>1. Purpose  <br>   Researchers evaluated large language models (LLMs) in dynamic, simulated environments to see how well they plan, reason, and execute tasks.<br><br>2. Key Findings  <br>   • Model size helps: Larger models generally outperform smaller ones.  <br>   • Prompting matters: Strategic prompt engineering (e.g., chain-of-thought, tool use, re-prompting) narrows the gap between small and large models.  <br>   • Advanced methods boost performance but can be unstable or brittle.  <br>   • LLMs still struggle with planning, spatial coordination, and multi-step reasoning.  <br><br>3. Research Directions  <br>   • Beyond static benchmarks: Dynamic tasks better reveal reasoning and planning abilities.  <br>   • Grounded language learning: Aligning language with actions and perceptions in environments.  <br>   • Interactive decision making: Agents learn from feedback and adapt.  <br>   • Efficiency vs. capability: Balancing model size, compute cost, and task performance.  <br><br>4. Benchmarks & Domains Covered  <br>   • Robotics and spatial tasks (e.g., navigation in 3D worlds)  <br>   • Reinforcement learning environments  <br>   • Text-based planning and coding tasks  <br>   • Instruction following with human feedback  <br><br>5. Challenges Identified  <br>   • Scalability of reasoning methods  <br>   • Robustness of planning under uncertainty  <br>   • Measuring real-world generalization in simulated settings  <br><br>Overall, while LLMs show promise for grounded decision-making, significant work remains to improve their planning stability, reasoning depth, and real-world applicability.\""
      ],
      "text/plain": [
       "<IPython.core.display.Markdown object>"
      ]
     },
     "metadata": {},
     "output_type": "display_data"
    }
   ],
   "source": [
    "url = api + '/query'\n",
    "\n",
    "data = {\"session_id\": session_id, \"query\": \"Summarize the document.\"}\n",
    "response = requests.post(url, json=data)\n",
    "display(Markdown(response.text.replace(\"\\\\n\", \"<br>\")))"
   ]
  },
  {
   "cell_type": "code",
   "execution_count": 20,
   "id": "064fbd80",
   "metadata": {},
   "outputs": [
    {
     "data": {
      "text/markdown": [
       "\"The experiments were run in four prototypical testbeds, each designed to probe different aspects of sequential decision-making and generalization:<br><br>1. Bandit  <br>   – A classic N-armed bandit problem in which at each round the agent selects one of several “slot‐machine” arms.  <br>   – Each arm yields stochastic payoffs drawn from an unknown distribution.  <br>   – The agent’s goal is to maximize cumulative reward by balancing exploration (trying less-pulled arms) against exploitation (choosing the empirically best arm).<br><br>2. Rock Paper Scissors  <br>   – A two-player zero-sum game where the agent repeatedly chooses Rock, Paper, or Scissors.  <br>   – Payoffs are determined by the standard win/tie/lose payoff matrix.  <br>   – Serves as a simple adversarial setting to study equilibrium learning and adaptation to an opponent’s strategy.<br><br>3. Tower of Hanoi  <br>   – A puzzle environment with three pegs and a stack of disks of varying sizes.  <br>   – The agent moves one disk at a time, never placing a larger disk atop a smaller one, with the objective of transferring the entire stack from the start peg to a target peg.  <br>   – Tests the ability to plan multi‐step, constraint‐satisfying sequences of moves.<br><br>4. Messenger  <br>   – A simulated communication/interaction environment in which the agent must send, receive, or route messages to accomplish specified tasks.  <br>   – Though details vary by experiment, it generally examines how agents learn protocols and handle information exchange under uncertainty.\""
      ],
      "text/plain": [
       "<IPython.core.display.Markdown object>"
      ]
     },
     "metadata": {},
     "output_type": "display_data"
    }
   ],
   "source": [
    "data = {\"session_id\": session_id, \"query\": \"Describe the test environment used for the experiments.\"}\n",
    "response = requests.post(url, json=data)\n",
    "display(Markdown(response.text.replace(\"\\\\n\", \"<br>\")))"
   ]
  }
 ],
 "metadata": {
  "kernelspec": {
   "display_name": ".venv",
   "language": "python",
   "name": "python3"
  },
  "language_info": {
   "codemirror_mode": {
    "name": "ipython",
    "version": 3
   },
   "file_extension": ".py",
   "mimetype": "text/x-python",
   "name": "python",
   "nbconvert_exporter": "python",
   "pygments_lexer": "ipython3",
   "version": "3.13.3"
  }
 },
 "nbformat": 4,
 "nbformat_minor": 5
}
