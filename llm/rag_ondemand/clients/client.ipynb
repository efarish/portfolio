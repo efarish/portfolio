{
 "cells": [
  {
   "cell_type": "code",
   "execution_count": null,
   "id": "3ffc80fe",
   "metadata": {},
   "outputs": [
    {
     "name": "stdout",
     "output_type": "stream",
     "text": [
      "response.status_code=200\n",
      "response.text='{\"statusCode\":200,\"body\":\"The app is up!\"}'\n"
     ]
    }
   ],
   "source": [
    "import requests\n",
    "\n",
    "api = 'http://localhost:80'\n",
    "\n",
    "url = api + '/'\n",
    "response = requests.get(url)\n",
    "print(f'{response.status_code=}')\n",
    "print(f'{response.text=}')"
   ]
  },
  {
   "cell_type": "code",
   "execution_count": 4,
   "id": "dc09a103",
   "metadata": {},
   "outputs": [
    {
     "name": "stdout",
     "output_type": "stream",
     "text": [
      "Session Id: 7648ae17-8ae3-447e-b60c-f3886940a961\n"
     ]
    }
   ],
   "source": [
    "url = api + '/create_session'\n",
    "response = requests.get(url)\n",
    "session_id = response.json()['session_id']\n",
    "print(f'Session Id: {session_id}')"
   ]
  },
  {
   "cell_type": "code",
   "execution_count": 43,
   "id": "7c1bd236",
   "metadata": {},
   "outputs": [
    {
     "name": "stdout",
     "output_type": "stream",
     "text": [
      "Image uploaded successfully!\n",
      "{'statusCode': 201, 'body': 'File bkr.png uploaded.'}\n"
     ]
    }
   ],
   "source": [
    "url = api + '/upload'\n",
    "file_path = './bkr.png'\n",
    "\n",
    "with open(file_path, 'rb') as image_file:\n",
    "    data = {\"session_id\": session_id}\n",
    "    files = {\"file\": (file_path, image_file)}\n",
    "    response = requests.post(url, data=data, files=files)\n",
    "\n",
    "if response.status_code == 200:\n",
    "    print(\"Image uploaded successfully!\")\n",
    "else:\n",
    "    print(\"Error uploading image:\", response.status_code)\n",
    "\n",
    "print(response.json())"
   ]
  },
  {
   "cell_type": "code",
   "execution_count": 14,
   "id": "d261c798",
   "metadata": {},
   "outputs": [
    {
     "name": "stdout",
     "output_type": "stream",
     "text": [
      "<Response [200]>\n"
     ]
    }
   ],
   "source": [
    "url = api + '/fit'\n",
    "\n",
    "data = {\"session_id\": session_id}\n",
    "response = requests.post(url, json=data)\n",
    "\n",
    "print(response)"
   ]
  }
 ],
 "metadata": {
  "kernelspec": {
   "display_name": ".venv",
   "language": "python",
   "name": "python3"
  },
  "language_info": {
   "codemirror_mode": {
    "name": "ipython",
    "version": 3
   },
   "file_extension": ".py",
   "mimetype": "text/x-python",
   "name": "python",
   "nbconvert_exporter": "python",
   "pygments_lexer": "ipython3",
   "version": "3.13.3"
  }
 },
 "nbformat": 4,
 "nbformat_minor": 5
}
