{
 "cells": [
  {
   "cell_type": "code",
   "execution_count": 1,
   "id": "ccc11004",
   "metadata": {},
   "outputs": [],
   "source": [
    "api = 'http://localhost:80'"
   ]
  },
  {
   "cell_type": "code",
   "execution_count": 2,
   "id": "3ffc80fe",
   "metadata": {},
   "outputs": [
    {
     "name": "stdout",
     "output_type": "stream",
     "text": [
      "response.status_code=200\n",
      "response.text='{\"message\":\"The app is up!\"}'\n"
     ]
    }
   ],
   "source": [
    "import requests\n",
    "\n",
    "url = api + '/'\n",
    "response = requests.get(url)\n",
    "print(f'{response.status_code=}')\n",
    "print(f'{response.text=}')"
   ]
  },
  {
   "cell_type": "code",
   "execution_count": 4,
   "id": "7c1bd236",
   "metadata": {},
   "outputs": [
    {
     "name": "stdout",
     "output_type": "stream",
     "text": [
      "Image uploaded successfully!\n",
      "response.text='{\"filename\":{},\"file_size\":40617,\"file_type\":\"image/png\"}'\n"
     ]
    }
   ],
   "source": [
    "import requests\n",
    "\n",
    "url = api + '/uploaddoc'\n",
    "file_path = './bkr.png'\n",
    "\n",
    "with open(file_path, 'rb') as image_file:\n",
    "    #response = requests.post(url, data=image_file)\n",
    "    files = {\"file\": (file_path, image_file)}\n",
    "    response = requests.post(url, files=files)\n",
    "\n",
    "if response.status_code == 200:\n",
    "    print(\"Image uploaded successfully!\")\n",
    "else:\n",
    "    print(\"Error uploading image:\", response.status_code)\n",
    "\n",
    "print(f'{response.text=}')"
   ]
  }
 ],
 "metadata": {
  "kernelspec": {
   "display_name": ".venv",
   "language": "python",
   "name": "python3"
  },
  "language_info": {
   "codemirror_mode": {
    "name": "ipython",
    "version": 3
   },
   "file_extension": ".py",
   "mimetype": "text/x-python",
   "name": "python",
   "nbconvert_exporter": "python",
   "pygments_lexer": "ipython3",
   "version": "3.13.1"
  }
 },
 "nbformat": 4,
 "nbformat_minor": 5
}
