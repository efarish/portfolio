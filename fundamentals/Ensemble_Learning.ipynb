{
 "cells": [
  {
   "cell_type": "markdown",
   "id": "6ba296a1",
   "metadata": {},
   "source": [
    "# Introduction \n",
    "\n",
    "This analysis examines using ensemble learning techniques to improve ML algorithm performance.\n",
    "\n",
    "The dataset used is the [Kaggle Heart Disease Dataset](https://www.kaggle.com/datasets/johnsmith88/heart-disease-dataset).\n",
    "\n",
    "Using Scikit-learn, the following models are evaluated:\n",
    "\n",
    "- GaussianNB\n",
    "- Linear SVC \n",
    "- MLPClassifier\n",
    "- DecisionTreeClassifier\n",
    "- RandomForestClassifier\n",
    "\n",
    "\n",
    "## Loading the Data and Pre-processing\n",
    "\n",
    "Below, the dataset is loaded and it's meta-data displayed."
   ]
  },
  {
   "cell_type": "code",
   "execution_count": 1,
   "id": "380c91c7",
   "metadata": {},
   "outputs": [
    {
     "name": "stdout",
     "output_type": "stream",
     "text": [
      "<class 'pandas.core.frame.DataFrame'>\n",
      "RangeIndex: 918 entries, 0 to 917\n",
      "Data columns (total 12 columns):\n",
      " #   Column          Non-Null Count  Dtype  \n",
      "---  ------          --------------  -----  \n",
      " 0   Age             918 non-null    int64  \n",
      " 1   Sex             918 non-null    object \n",
      " 2   ChestPainType   918 non-null    object \n",
      " 3   RestingBP       918 non-null    int64  \n",
      " 4   Cholesterol     918 non-null    int64  \n",
      " 5   FastingBS       918 non-null    int64  \n",
      " 6   RestingECG      918 non-null    object \n",
      " 7   MaxHR           918 non-null    int64  \n",
      " 8   ExerciseAngina  918 non-null    object \n",
      " 9   Oldpeak         918 non-null    float64\n",
      " 10  ST_Slope        918 non-null    object \n",
      " 11  HeartDisease    918 non-null    int64  \n",
      "dtypes: float64(1), int64(6), object(5)\n",
      "memory usage: 86.2+ KB\n"
     ]
    }
   ],
   "source": [
    "import numpy as np\n",
    "import pandas as pd\n",
    "import random\n",
    "\n",
    "target = 'HeartDisease'\n",
    "data = pd.read_csv('./heart_dataset.csv')\n",
    "data.info()"
   ]
  },
  {
   "cell_type": "markdown",
   "id": "db8cb6e8",
   "metadata": {},
   "source": [
    "String variables are present. The code below first splits the data into feature and target datasets and then one-hot encodes the categorical variables. "
   ]
  },
  {
   "cell_type": "code",
   "execution_count": 2,
   "id": "0098e0c6",
   "metadata": {},
   "outputs": [],
   "source": [
    "from sklearn.preprocessing import StandardScaler, OneHotEncoder\n",
    "import sklearn\n",
    "sklearn.set_config(transform_output=\"pandas\")\n",
    "\n",
    "X = data.loc[:, data.columns != target ]\n",
    "y = data.loc[:, target].values.ravel()\n",
    "\n",
    "X_onehot = StandardScaler().fit_transform(pd.get_dummies(X, drop_first=False))"
   ]
  },
  {
   "cell_type": "markdown",
   "id": "a52ce1b6",
   "metadata": {},
   "source": [
    "Below, a baseline classifier is created using Logistic Regression and the performance metrics calculated. "
   ]
  },
  {
   "cell_type": "code",
   "execution_count": 3,
   "id": "46977111",
   "metadata": {},
   "outputs": [
    {
     "name": "stdout",
     "output_type": "stream",
     "text": [
      " Accuracy = 0.863 ±0.0322, Precision = 0.865 ±0.0364, Recall = 0.893 ±0.0412, F1 Score = 0.878 ±0.0288\n"
     ]
    }
   ],
   "source": [
    "from sklearn.model_selection import StratifiedKFold\n",
    "from sklearn.metrics import accuracy_score, f1_score, recall_score, precision_score\n",
    "from sklearn.linear_model import LogisticRegression\n",
    "\n",
    "def eval_classifier(_clf, _X, _y, _niter, return_metrics=False, debug=False):\n",
    "    accs = []\n",
    "    precisions = []\n",
    "    recalls = []\n",
    "    f1s = []\n",
    "    for i in range(_niter):\n",
    "        kf = StratifiedKFold(n_splits=10,shuffle=True,random_state=i)\n",
    "        split = 1\n",
    "        for tr_ix, ts_ix in kf.split(_X, _y):\n",
    "            _clf.fit(_X[tr_ix,:], _y[tr_ix])\n",
    "            y_pred = _clf.predict(_X[ts_ix,:])\n",
    "            accs       += [accuracy_score (_y[ts_ix], y_pred)]\n",
    "            precisions += [precision_score(_y[ts_ix], y_pred)]\n",
    "            recalls    += [recall_score   (_y[ts_ix], y_pred)]\n",
    "            f1s        += [f1_score       (_y[ts_ix], y_pred)]\n",
    "            if debug: print(f'Finished split {split}')\n",
    "            split += 1    \n",
    "        if debug: print(f'Finished iteration {i}')\n",
    "    \n",
    "    \n",
    "    if return_metrics: \n",
    "        return [np.mean(accs),np.mean(precisions),np.mean(recalls),np.mean(f1s)]\n",
    "    else:    \n",
    "        print(f' Accuracy = {np.mean(accs):.3f} {chr(177)}{np.std(accs):.4f},', end =\"\")\n",
    "        print(f' Precision = {np.mean(precisions):.3f} {chr(177)}{np.std(precisions):.4f},', end =\"\")\n",
    "        print(f' Recall = {np.mean(recalls):.3f} {chr(177)}{np.std(recalls):.4f},', end =\"\")\n",
    "        print(f' F1 Score = {np.mean(f1s):.3f} {chr(177)}{np.std(f1s):.4f}')\n",
    "        \n",
    "eval_classifier(LogisticRegression(random_state=0), X_onehot.values, y, 10)"
   ]
  },
  {
   "cell_type": "markdown",
   "id": "12185e25",
   "metadata": {},
   "source": [
    "# Non-ensemble Performance\n",
    "\n",
    "Below are the fittings and 10-fold CV performance calculations for the Scikit-learn models GaussianNB, linear SVC, MLPClassifier, and DecisionTreeClassifier, and RandomForestClassifier. Default hyper-parameters are used. All available data and features are used for the fittings and CV. Due to performance issues, the LinearSVC implemetation of SVC was used.  "
   ]
  },
  {
   "cell_type": "code",
   "execution_count": 4,
   "id": "dbd0f99d",
   "metadata": {},
   "outputs": [
    {
     "name": "stdout",
     "output_type": "stream",
     "text": [
      "NB: Accuracy = 0.858 ±0.0351, Precision = 0.873 ±0.0392, Recall = 0.871 ±0.0425, F1 Score = 0.871 ±0.0315\n",
      "SVC: Accuracy = 0.863 ±0.0330, Precision = 0.866 ±0.0373, Recall = 0.893 ±0.0412, F1 Score = 0.878 ±0.0295\n",
      "MLP: Accuracy = 0.865 ±0.0322, Precision = 0.868 ±0.0344, Recall = 0.894 ±0.0407, F1 Score = 0.880 ±0.0289\n",
      "DT: Accuracy = 0.795 ±0.0391, Precision = 0.824 ±0.0418, Recall = 0.804 ±0.0519, F1 Score = 0.813 ±0.0370\n",
      "RFC: Accuracy = 0.872 ±0.0333, Precision = 0.868 ±0.0363, Recall = 0.908 ±0.0377, F1 Score = 0.887 ±0.0291\n",
      "CPU times: total: 6min 59s\n",
      "Wall time: 3min 12s\n"
     ]
    }
   ],
   "source": [
    "%%time\n",
    "\n",
    "import warnings\n",
    "warnings.filterwarnings('ignore')\n",
    "\n",
    "from sklearn.ensemble import RandomForestClassifier\n",
    "from sklearn.naive_bayes import GaussianNB\n",
    "from sklearn.svm import LinearSVC\n",
    "from sklearn.neural_network import MLPClassifier\n",
    "from sklearn.tree import DecisionTreeClassifier\n",
    "\n",
    "weak_clf_map = {'LR':LogisticRegression(random_state=0),\n",
    "                'NB':GaussianNB(),\n",
    "                'SVC':LinearSVC(random_state=0),\n",
    "                'MLP':MLPClassifier(random_state=0),\n",
    "                'DT':DecisionTreeClassifier(random_state=0),\n",
    "                'RFC':RandomForestClassifier(random_state=0)}\n",
    "\n",
    "from sklearn.base import clone\n",
    "def get_clf(_clf_name):\n",
    "    return clone(weak_clf_map[_clf_name])\n",
    "\n",
    "counts = np.unique(y, return_counts=True)\n",
    "NBpriors = [counts[1][0]/len(y), counts[1][1]/len(y)]\n",
    "eval_df = X_onehot.values\n",
    "print('NB:', end=\"\");eval_classifier(get_clf('NB'),   eval_df, y, 10)\n",
    "print('SVC:', end=\"\");eval_classifier(get_clf('SVC'), eval_df, y, 10)\n",
    "print('MLP:', end=\"\");eval_classifier(get_clf('MLP'), eval_df, y, 10)\n",
    "print('DT:', end=\"\");eval_classifier(get_clf('DT'),   eval_df, y, 10)\n",
    "print('RFC:', end=\"\");eval_classifier(get_clf('RFC'), eval_df, y, 10)"
   ]
  },
  {
   "cell_type": "markdown",
   "id": "bb7b43ce",
   "metadata": {},
   "source": [
    "The default Decision Tree had the worst performance while the Random Forest Classifier had the best. \n",
    "\n",
    "# Create Ensemble Classifiers\n",
    "\n",
    "Below are utility methods used in the analysis. The highlights are.\n",
    "\n",
    "- `ensemble_fit` creates 100 weak classifiers. \n",
    "- The sklearn method `training_test_split` is used to generate a stratified random sample that is used for training.\n",
    "- `ensemble_predict` function to optionally classify examples using ensemble voting or classification probability. For these experiments, only the `LinearSVC` model will use ensemble voting as it doesn't have a `predict_proba` function."
   ]
  },
  {
   "cell_type": "code",
   "execution_count": 5,
   "id": "c916f06d",
   "metadata": {},
   "outputs": [],
   "source": [
    "import warnings\n",
    "warnings.filterwarnings('ignore')\n",
    "\n",
    "from sklearn.model_selection import train_test_split\n",
    "\n",
    "# Use _m features randomly selected from _M features\n",
    "# a total of n_estimators many weak learners\n",
    "def features_randomsubset(_M, _m, n_estimators=1):\n",
    "    from numpy.random import choice\n",
    "    # returns a list of list of column choices - subset features\n",
    "    return [choice(_M, _m, replace=False) for _ in range(n_estimators)]\n",
    "\n",
    "weak_clf_map = {'LR':LogisticRegression(random_state=0),\n",
    "                'NB':GaussianNB(),\n",
    "                'SVC':LinearSVC(random_state=0),\n",
    "                'MLP':MLPClassifier(hidden_layer_sizes=(3,3), max_iter=30, tol=1e-1, random_state=0),\n",
    "                'DT':DecisionTreeClassifier(max_depth=5, max_features=5, random_state=0),\n",
    "                'RFC':RandomForestClassifier(random_state=0)}\n",
    "\n",
    "from sklearn.base import clone\n",
    "def get_clf(_clf_name):\n",
    "    return clone(weak_clf_map[_clf_name])\n",
    "\n",
    "# Let's build a single weak learner using _clf_name to specify the classifier.\n",
    "def weak_fit(_clf_name, _list_cols, _X, _y, _subsample=None, _random_state=None):\n",
    "    if _subsample == None:\n",
    "        Xs = _X[:,_list_cols]\n",
    "        ys = _y\n",
    "    else:\n",
    "        Xs, _, ys, _ = train_test_split(_X[:,_list_cols], _y, \n",
    "                                        train_size=_subsample, random_state=_random_state, stratify=_y)\n",
    "    return get_clf(_clf_name).fit(Xs, ys)  # return a single classifier\n",
    "\n",
    "def weak_predict(_clf, _list_cols, _X, _use_prob=True):\n",
    "    Xs = _X[:,_list_cols]\n",
    "    if _use_prob:\n",
    "        probs = _clf.predict_proba(Xs)\n",
    "    else: probs = np.zeros(Xs.shape[0])\n",
    "    return _clf.predict(Xs), probs\n",
    "\n",
    "# Generate numerous trained NB classifiers as weak learners\n",
    "def ensemble_fit(_clf_name, _ensemble_cols, _X, _y, _subsample=None):\n",
    "    # the list of ensemble columns have a column list for every member of the ensemble\n",
    "    n_estimators = len(_ensemble_cols)\n",
    "    # list of weak learners\n",
    "    ensemble_clf = []\n",
    "    for j in range(n_estimators):\n",
    "        ensemble_clf += [weak_fit(_clf_name, _ensemble_cols[j], _X, _y, _subsample=_subsample, _random_state=j)]\n",
    "\n",
    "    return ensemble_clf\n",
    "\n",
    "# Using trained ensemble, predict the outcome by majority voting\n",
    "def ensemble_predict(_ensemble_clf, _ensemble_cols, _Xtest, _use_prob=True):\n",
    "    from collections import defaultdict\n",
    "    n_estimators = len(_ensemble_clf)\n",
    "    assert n_estimators==len(_ensemble_cols)  # Error check\n",
    "    # weak learner predictions\n",
    "    ypred_e, yprob_e = [], []\n",
    "    for j in range(n_estimators):\n",
    "        res = weak_predict(_ensemble_clf[j], _ensemble_cols[j], _Xtest, _use_prob=_use_prob)\n",
    "        ypred_e += [res[0]]  # prediction\n",
    "        yprob_e += [res[1]]  # score/probability of the prediction\n",
    "    # majority voting for each data point in _Xtest\n",
    "    ypred = []\n",
    "    for i in range(_Xtest.shape[0]):\n",
    "        ypred_scores = defaultdict(float)\n",
    "        for j in range(n_estimators):\n",
    "            if not _use_prob:                         # Using voting to select classifictaion.\n",
    "                ypred_scores[ypred_e[j][i]] += 1\n",
    "            else:\n",
    "                for c, p in enumerate(yprob_e[j][i]): # Use probability to select classification.\n",
    "                    ypred_scores[c] += p\n",
    "        ix = max(ypred_scores.items(), key=lambda a: a[1])\n",
    "        ypred += [ix[0]]\n",
    "\n",
    "    return np.array(ypred)\n",
    "\n",
    "# Attemp 10-fold CV using ensemble_fit, ensemble_predict\n",
    "# _nfeatures: feature subset size. If None, all features are used.\n",
    "# _use_prod: Use clf.predict_proba to pick ensemble classification. Otherwise, use voting.\n",
    "# _subsample: fraction of training dataset used for fitting. Must be (0, 1) or None.\n",
    "def eval_ensemble(_clf_name, _X, _y, _niter, _n_estimators, \n",
    "                  _nfeatures=None, _use_prob=True, _subsample=None):\n",
    "    accuracies = []\n",
    "    for i in range(_niter):\n",
    "        # Keep subset features, columns same for a 10-fold\n",
    "        if _nfeatures == None:\n",
    "            idxs = [x for x in range(_X.shape[1])]\n",
    "            cols = [ idxs for _ in range(_n_estimators)]\n",
    "        else:    \n",
    "            cols = features_randomsubset(_X.shape[1], _nfeatures, n_estimators=_n_estimators)\n",
    "        # 10-fold CV\n",
    "        kf = StratifiedKFold(n_splits=10, shuffle=True, random_state=i)\n",
    "        for train_index, test_index in kf.split(_X, _y):\n",
    "            e_clf = ensemble_fit(_clf_name, cols, _X[train_index], _y[train_index], _subsample=_subsample)\n",
    "            y_pred = ensemble_predict(e_clf, cols, _X[test_index], _use_prob=_use_prob)\n",
    "            accuracies += [accuracy_score(_y[test_index], y_pred)]\n",
    "\n",
    "    return np.array(accuracies)"
   ]
  },
  {
   "cell_type": "markdown",
   "id": "606da092",
   "metadata": {},
   "source": [
    "# Collect Ensemble Performance Data\n",
    "\n",
    "Below are the 0.05 and 0.20 subsample performances for the weak learners and decision tree.\n",
    "\n",
    "### 10-fold CV for weak learns\n",
    "\n",
    "Below the 0.05 and 0.2 subsample performance is calculated for the weak learners. The number of features randomly selected from the available variables is 5. This setting was determined using some ad hoc testing."
   ]
  },
  {
   "cell_type": "code",
   "execution_count": 6,
   "id": "4aea0e80",
   "metadata": {
    "scrolled": false
   },
   "outputs": [
    {
     "name": "stdout",
     "output_type": "stream",
     "text": [
      "Subsample size 0.05:\n",
      "  NB ensemble average Acc= 0.859 ±0.0348\n",
      "  SVC ensemble average Acc= 0.861 ±0.0337\n",
      "  MLP ensemble average Acc= 0.575 ±0.0558\n",
      "  DT ensemble average Acc= 0.863 ±0.0323\n",
      "Subsample size 0.2:\n",
      "  NB ensemble average Acc= 0.858 ±0.0371\n",
      "  SVC ensemble average Acc= 0.862 ±0.0322\n",
      "  MLP ensemble average Acc= 0.618 ±0.0827\n",
      "  DT ensemble average Acc= 0.872 ±0.0309\n",
      "CPU times: total: 9min 32s\n",
      "Wall time: 13min 59s\n"
     ]
    }
   ],
   "source": [
    "%%time\n",
    "\n",
    "def print_acc(_clf_name, _acc, _results=None, print_results=True):\n",
    "    mean = np.mean(_acc);std = np.std(acc)\n",
    "    if print_results:\n",
    "        print(f'  {_clf_name} ensemble average Acc= {mean:.3f} {chr(177)}{std:.4f}')\n",
    "    if _results is not None:\n",
    "        _results[_clf_name].append([mean, std])\n",
    "    \n",
    "for frac in [0.05, 0.2]:\n",
    "    print(f'Subsample size {frac}:')\n",
    "    num_estimators = 100\n",
    "    subsample = frac  # Fraction of training data to sample and fit with.\n",
    "    n_flds_to_use = 5 # Number of randomy selected features to fit with.\n",
    "    eval_df = X_onehot.values\n",
    "    acc = eval_ensemble('NB',  eval_df, y, 10, num_estimators, n_flds_to_use, _subsample=subsample)\n",
    "    print_acc('NB', acc)\n",
    "    acc = eval_ensemble('SVC', eval_df, y, 10, num_estimators, n_flds_to_use, _use_prob=False, _subsample=subsample)\n",
    "    print_acc('SVC', acc)\n",
    "    acc = eval_ensemble('MLP', eval_df, y, 10, num_estimators, n_flds_to_use, _subsample=subsample)\n",
    "    print_acc('MLP', acc)\n",
    "    acc = eval_ensemble('DT',  eval_df, y, 10, num_estimators, n_flds_to_use, _subsample=subsample)\n",
    "    print_acc('DT', acc)"
   ]
  },
  {
   "cell_type": "markdown",
   "id": "a2ead8a1",
   "metadata": {},
   "source": [
    "It appears the 100 estimator ensembles fitted with subsamples have nearly the same performance as the non-ensembel models fitted which used all the data and features. The exception is the Multi-layer Perceptron classifier. Its performance is significantly worse then the non-ensemble. The performance seems to improve as more data is used for training. But the exception again is the MLP classifier.\n",
    "\n",
    "### Subsample performance for Regular Decision Tree\n",
    "To generate results, the Decision Tree will be created using the same parameters used for the ensemble but only one Decision Tree instance will be used for the CV. "
   ]
  },
  {
   "cell_type": "code",
   "execution_count": 7,
   "id": "a0d8719c",
   "metadata": {},
   "outputs": [
    {
     "name": "stdout",
     "output_type": "stream",
     "text": [
      "Subsample size 0.05:\n",
      "  DT ensemble average Acc= 0.731 ±0.0633\n",
      "Subsample size 0.2:\n",
      "  DT ensemble average Acc= 0.746 ±0.0723\n"
     ]
    }
   ],
   "source": [
    "for frac in [0.05, 0.2]:\n",
    "    print(f'Subsample size {frac}:')\n",
    "    num_estimators = 1\n",
    "    subsample = frac  # Fraction of training data to sample and fit with.\n",
    "    n_flds_to_use = 5 # Number of randomly selected features to fit with.\n",
    "    eval_df = X_onehot.values\n",
    "    acc = eval_ensemble('DT',  eval_df, y, 10, num_estimators, n_flds_to_use, _subsample=subsample)\n",
    "    print_acc('DT', acc)"
   ]
  },
  {
   "cell_type": "markdown",
   "id": "62ee4d96",
   "metadata": {},
   "source": [
    "The 1 estimator ensemble Decision Tree has significantly worse performance than the 100 ensemble classifier. The performance seems to improve as more data is allocated for training.\n",
    "\n",
    "# 10-fold CV performances of the ensembles \n",
    "\n",
    "10-fold CV performances for ensemble and regular classifiers are calculated using the specified subsamples. After that, the subsample performance is plotted for each classifier. The 100 estimator ensemble classifiers will use 5 randomly selected fields form all available features to fit the ensemble model members. The regular classifiers ensemble will use all the features for fitting. The regular classifiers are created using an ensemble containing 1 estimator.     \n",
    "\n",
    "### Performance calculations\n",
    "\n",
    "The code below collect performance metrics for the 4 ensembles and regular classifiers."
   ]
  },
  {
   "cell_type": "code",
   "execution_count": 8,
   "id": "45db7c08",
   "metadata": {},
   "outputs": [
    {
     "name": "stdout",
     "output_type": "stream",
     "text": [
      "CPU times: total: 23min 53s\n",
      "Wall time: 40min\n"
     ]
    }
   ],
   "source": [
    "%%time\n",
    "results_ensemble = {'NB':[], 'SVC':[], 'MLP':[], 'DT':[]}\n",
    "results_regular = {'NB':[], 'SVC':[], 'MLP':[], 'DT':[]}\n",
    "\n",
    "sample_sizes = [0.005, 0.01, 0.03, 0.05, 0.1, 0.2]\n",
    "eval_df = X_onehot.values\n",
    "num_estimators = 100\n",
    "n_flds_to_use = 5\n",
    "\n",
    "for frac in sample_sizes:\n",
    "    subsample = frac  # Fraction of training data to sample and fit with.\n",
    "    acc = eval_ensemble('NB',  eval_df, y, 10, num_estimators, n_flds_to_use, _subsample=subsample)\n",
    "    print_acc('NB', acc, results_ensemble, print_results=False)\n",
    "    acc = eval_ensemble('SVC', eval_df, y, 10, num_estimators, n_flds_to_use, _use_prob=False, _subsample=subsample)\n",
    "    print_acc('SVC', acc, results_ensemble, print_results=False)\n",
    "    acc = eval_ensemble('MLP', eval_df, y, 10, num_estimators, n_flds_to_use, _subsample=subsample)\n",
    "    print_acc('MLP', acc, results_ensemble, print_results=False)\n",
    "    acc = eval_ensemble('DT',  eval_df, y, 10, num_estimators, n_flds_to_use, _subsample=subsample)\n",
    "    print_acc('DT', acc, results_ensemble, print_results=False)\n",
    "\n",
    "num_estimators = 1\n",
    "n_flds_to_use = None # Use all fields for fittings.\n",
    "for frac in sample_sizes:\n",
    "    subsample = frac  # Fraction of training data to sample and fit with.\n",
    "    acc = eval_ensemble('NB',  eval_df, y, 10, num_estimators, n_flds_to_use, _subsample=subsample)\n",
    "    print_acc('NB', acc, results_regular, print_results=False)\n",
    "    acc = eval_ensemble('SVC', eval_df, y, 10, num_estimators, n_flds_to_use, _use_prob=False, _subsample=subsample)\n",
    "    print_acc('SVC', acc, results_regular, print_results=False)\n",
    "    acc = eval_ensemble('MLP', eval_df, y, 10, num_estimators, n_flds_to_use, _subsample=subsample)\n",
    "    print_acc('MLP', acc, results_regular, print_results=False)\n",
    "    acc = eval_ensemble('DT',  eval_df, y, 10, num_estimators, n_flds_to_use, _subsample=subsample)\n",
    "    print_acc('DT', acc, results_regular, print_results=False)    "
   ]
  },
  {
   "cell_type": "markdown",
   "id": "61747125",
   "metadata": {},
   "source": [
    "### Plots\n",
    "\n",
    "Performance metric plots are below. The performance variance intervals have been omitted to increase readability. "
   ]
  },
  {
   "cell_type": "code",
   "execution_count": 9,
   "id": "2beb57a1",
   "metadata": {},
   "outputs": [
    {
     "data": {
      "image/png": "[encoded data removed]",
      "text/plain": [
       "<Figure size 640x480 with 1 Axes>"
      ]
     },
     "metadata": {},
     "output_type": "display_data"
    }
   ],
   "source": [
    "%matplotlib inline\n",
    "import matplotlib.pyplot as plt\n",
    "\n",
    "plt.plot(sample_sizes, [a[0] for a in results_ensemble['NB']], label='Ensemble NB')\n",
    "plt.plot(sample_sizes, [a[0] for a in results_regular['NB']], label='Regular NB')\n",
    "plt.plot(sample_sizes, [a[0] for a in results_ensemble['SVC']], label='Ensemble SVC')\n",
    "plt.plot(sample_sizes, [a[0] for a in results_regular['SVC']], label='Regular SVC')\n",
    "plt.plot(sample_sizes, [a[0] for a in results_ensemble['DT']], label='Ensemble DT')\n",
    "plt.plot(sample_sizes, [a[0] for a in results_regular['DT']], label='Regular DT')\n",
    "plt.plot(sample_sizes, [a[0] for a in results_ensemble['MLP']], label='Ensemble MLP')\n",
    "plt.plot(sample_sizes, [a[0] for a in results_regular['MLP']], label='Regular MLP')\n",
    "plt.xlabel('SubSample Size')\n",
    "plt.ylabel('Accuracy')\n",
    "plt.legend(loc='lower right')\n",
    "plt.grid()\n",
    "plt.show()"
   ]
  },
  {
   "cell_type": "markdown",
   "id": "7a202ecf",
   "metadata": {},
   "source": [
    "Clearly, the 100 ensemble models outperform the regular classifiers for every subsample level. The performance gap closes as the subsample becomes larger. The ensemble classifiers achieve a high level of performance for small subsample sizes. The ensemble Decision Tree has the best performance. Both versions of the Multi-layer Perceptron (MCP) model have the worst performance. The analysis below investigates how the performance can be improved for ensemble MLP model. First, larger subsamples are tested. Then, narrowing the fields available for fitting using feature-target correlations is tested. Below are the results.   "
   ]
  },
  {
   "cell_type": "code",
   "execution_count": 10,
   "id": "6b377ad0",
   "metadata": {},
   "outputs": [
    {
     "name": "stdout",
     "output_type": "stream",
     "text": [
      "CPU times: total: 31min 7s\n",
      "Wall time: 45min 4s\n"
     ]
    }
   ],
   "source": [
    "%%time\n",
    "# Collect MLP metrics for larger subsamples.\n",
    "eval_df = X_onehot.values\n",
    "results_mlp_1 = {'MLP':[]}\n",
    "num_estimators = 100\n",
    "n_flds_to_use = 5\n",
    "sample_sizes = [0.3, 0.4, 0.5, 0.6, 0.7, 0.8, 0.9, 0.99]\n",
    "for frac in sample_sizes:\n",
    "    subsample = frac  # Fraction of training data to sample and fit with.\n",
    "    acc = eval_ensemble('MLP', eval_df, y, 10, num_estimators, n_flds_to_use, _subsample=subsample)\n",
    "    print_acc('MLP', acc, results_mlp_1, print_results=False)"
   ]
  },
  {
   "cell_type": "code",
   "execution_count": 11,
   "id": "5316980c",
   "metadata": {},
   "outputs": [
    {
     "name": "stdout",
     "output_type": "stream",
     "text": [
      "Features with corrletaion >= 0.3: 10\n",
      "CPU times: total: 24min 21s\n",
      "Wall time: 25min 50s\n"
     ]
    }
   ],
   "source": [
    "%%time\n",
    "# Collect MLP metrics for larger subsamples and feature selection using correlation.\n",
    "\"\"\"\n",
    "For a pd.DataFrame and a target in it, return correlations\n",
    "  of other varialbles with target. \n",
    "\"\"\"\n",
    "def ranker_correlation( _data, _target):\n",
    "    corrs = _data.corr()\n",
    "    tgt = corrs[[_target]].abs().drop([_target],axis=0)\n",
    "    return tgt.sort_values(by=[_target], ascending=False)\n",
    "\n",
    "df = X_onehot.copy()\n",
    "df[target] = y\n",
    "rank = ranker_correlation( df, target)\n",
    "high_corr_cols = list(rank[rank[target] >= 0.3].index)\n",
    "print(f'Features with corrletaion >= 0.3: {len(high_corr_cols)}')\n",
    "eval_df = X_onehot[high_corr_cols].values\n",
    "results_mlp_2 = {'MLP':[]}\n",
    "sample_sizes = [0.3, 0.4, 0.5, 0.6, 0.7, 0.8, 0.9, 0.99]\n",
    "for frac in sample_sizes:\n",
    "    subsample = frac  # Fraction of training data to sample and fit with.\n",
    "    acc = eval_ensemble('MLP', eval_df, y, 10, num_estimators, n_flds_to_use, _subsample=subsample)\n",
    "    print_acc('MLP', acc, results_mlp_2, print_results=False)"
   ]
  },
  {
   "cell_type": "code",
   "execution_count": 12,
   "id": "58bc509c",
   "metadata": {},
   "outputs": [
    {
     "data": {
      "image/png": "[encoded data removed]",
      "text/plain": [
       "<Figure size 640x480 with 1 Axes>"
      ]
     },
     "metadata": {},
     "output_type": "display_data"
    }
   ],
   "source": [
    "plt.plot(sample_sizes, [a[0] for a in results_mlp_1['MLP']], label='More Data')\n",
    "plt.plot(sample_sizes, [a[0] for a in results_mlp_2['MLP']], label='More Data and Feature Selection')\n",
    "plt.xlabel('SubSample Size')\n",
    "plt.ylabel('Accuracy')\n",
    "plt.legend(loc='lower right')\n",
    "plt.title('Using larget subsamples and Feature Selection')\n",
    "plt.grid()\n",
    "plt.show()"
   ]
  },
  {
   "cell_type": "markdown",
   "id": "09bd5f83",
   "metadata": {},
   "source": [
    "The best MLP performance occurs with models fitted with larger samples and feature selection using correlation. However, this performance is still inferior to the other three classifiers.\n",
    "\n",
    "# Conclusions\n",
    "\n",
    "- For smaller sample sizes, ensemble classifiers delivers superior performance than individual classifiers. \n",
    "- The performance gap between the two closes as larger samples are used.\n",
    "- For ensemble classifiers, high performance occurs at very small samples sizes with performance only increasing marginally for larger samples sizes. The performance of ensemble classifiers using small samples rivals regular classifiers trained with all the data, including the base-line Logistic Regression model created at the beginning of this analysis.\n",
    "- The Multi-Layer Perceptron (MLP) model needs more data relative to the other classifiers to deliver comparable performance. \n",
    "- MLP benefits from using feature correlation with the target variable to do feature selection but more research needs to be done to use this optimally.   "
   ]
  },
  {
   "cell_type": "code",
   "execution_count": null,
   "id": "b8cce778",
   "metadata": {},
   "outputs": [],
   "source": []
  }
 ],
 "metadata": {
  "kernelspec": {
   "display_name": "Python 3 (ipykernel)",
   "language": "python",
   "name": "python3"
  },
  "language_info": {
   "codemirror_mode": {
    "name": "ipython",
    "version": 3
   },
   "file_extension": ".py",
   "mimetype": "text/x-python",
   "name": "python",
   "nbconvert_exporter": "python",
   "pygments_lexer": "ipython3",
   "version": "3.8.8"
  }
 },
 "nbformat": 4,
 "nbformat_minor": 5
}
