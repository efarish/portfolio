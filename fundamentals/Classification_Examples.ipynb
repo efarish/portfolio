{
 "cells": [
  {
   "cell_type": "markdown",
   "id": "2dd0c37a",
   "metadata": {},
   "source": [
    "# Introduction\n",
    "\n",
    "Below a classification task is performed on a credit card fraud Kaggle dataset. The following algorithms are used for this task:\n",
    "\n",
    "- Support Vector Classifier\n",
    "- Decision Tree \n",
    "- Multi-Layer Perceptron\n",
    "- Random Forest \n",
    "- PyTorch MLP\n",
    "\n",
    "# Explore the dataset\n",
    "\n",
    "Per its __[Kaggle](https://www.kaggle.com/datasets/mlg-ulb/creditcardfraud)__ website, the dataset contains credit card transactions that are labeled as genuine or fraudulent. Below, the dataset is loaded and its meta-data displayed. "
   ]
  },
  {
   "cell_type": "code",
   "execution_count": 1,
   "id": "fdb4fd3f",
   "metadata": {},
   "outputs": [
    {
     "name": "stdout",
     "output_type": "stream",
     "text": [
      "Shape: (284807, 31)\n",
      "\n",
      "<class 'pandas.core.frame.DataFrame'>\n",
      "RangeIndex: 284807 entries, 0 to 284806\n",
      "Data columns (total 31 columns):\n",
      " #   Column  Non-Null Count   Dtype  \n",
      "---  ------  --------------   -----  \n",
      " 0   Time    284807 non-null  float64\n",
      " 1   V1      284807 non-null  float64\n",
      " 2   V2      284807 non-null  float64\n",
      " 3   V3      284807 non-null  float64\n",
      " 4   V4      284807 non-null  float64\n",
      " 5   V5      284807 non-null  float64\n",
      " 6   V6      284807 non-null  float64\n",
      " 7   V7      284807 non-null  float64\n",
      " 8   V8      284807 non-null  float64\n",
      " 9   V9      284807 non-null  float64\n",
      " 10  V10     284807 non-null  float64\n",
      " 11  V11     284807 non-null  float64\n",
      " 12  V12     284807 non-null  float64\n",
      " 13  V13     284807 non-null  float64\n",
      " 14  V14     284807 non-null  float64\n",
      " 15  V15     284807 non-null  float64\n",
      " 16  V16     284807 non-null  float64\n",
      " 17  V17     284807 non-null  float64\n",
      " 18  V18     284807 non-null  float64\n",
      " 19  V19     284807 non-null  float64\n",
      " 20  V20     284807 non-null  float64\n",
      " 21  V21     284807 non-null  float64\n",
      " 22  V22     284807 non-null  float64\n",
      " 23  V23     284807 non-null  float64\n",
      " 24  V24     284807 non-null  float64\n",
      " 25  V25     284807 non-null  float64\n",
      " 26  V26     284807 non-null  float64\n",
      " 27  V27     284807 non-null  float64\n",
      " 28  V28     284807 non-null  float64\n",
      " 29  Amount  284807 non-null  float64\n",
      " 30  Class   284807 non-null  int64  \n",
      "dtypes: float64(30), int64(1)\n",
      "memory usage: 67.4 MB\n"
     ]
    }
   ],
   "source": [
    "import pandas as pd\n",
    "import numpy as np\n",
    "data = pd.read_csv('./creditcard.csv')\n",
    "print(f'Shape: {data.shape}',end='\\n\\n')\n",
    "data.info()"
   ]
  },
  {
   "cell_type": "markdown",
   "id": "ccd79307",
   "metadata": {},
   "source": [
    "All of the data is numeric and none of the data is missing.\n",
    "\n",
    "## Class balance\n",
    "\n",
    "Below is the target variable's distribution."
   ]
  },
  {
   "cell_type": "code",
   "execution_count": 2,
   "id": "a3627821",
   "metadata": {},
   "outputs": [
    {
     "data": {
      "text/html": [
       "<div>\n",
       "<style scoped>\n",
       "    .dataframe tbody tr th:only-of-type {\n",
       "        vertical-align: middle;\n",
       "    }\n",
       "\n",
       "    .dataframe tbody tr th {\n",
       "        vertical-align: top;\n",
       "    }\n",
       "\n",
       "    .dataframe thead th {\n",
       "        text-align: right;\n",
       "    }\n",
       "</style>\n",
       "<table border=\"1\" class=\"dataframe\">\n",
       "  <thead>\n",
       "    <tr style=\"text-align: right;\">\n",
       "      <th></th>\n",
       "      <th>Frequency</th>\n",
       "      <th>Distribution</th>\n",
       "    </tr>\n",
       "    <tr>\n",
       "      <th>Class</th>\n",
       "      <th></th>\n",
       "      <th></th>\n",
       "    </tr>\n",
       "  </thead>\n",
       "  <tbody>\n",
       "    <tr>\n",
       "      <th>0</th>\n",
       "      <td>284315</td>\n",
       "      <td>0.998273</td>\n",
       "    </tr>\n",
       "    <tr>\n",
       "      <th>1</th>\n",
       "      <td>492</td>\n",
       "      <td>0.001727</td>\n",
       "    </tr>\n",
       "  </tbody>\n",
       "</table>\n",
       "</div>"
      ],
      "text/plain": [
       "       Frequency  Distribution\n",
       "Class                         \n",
       "0         284315      0.998273\n",
       "1            492      0.001727"
      ]
     },
     "execution_count": 2,
     "metadata": {},
     "output_type": "execute_result"
    }
   ],
   "source": [
    "pd.DataFrame({'Frequency':data['Class'].value_counts().sort_index().sort_index(),\n",
    "                            'Distribution':data['Class'].value_counts(normalize=True).sort_index()})"
   ]
  },
  {
   "cell_type": "markdown",
   "id": "c69fa044",
   "metadata": {},
   "source": [
    "The target variable `Class` is binary and very imbalanced. There are only $\\approx$ 0.2% positive examples. Therefore, the cost metric `F1 Score` will be used to evaluate models developed using the dataset.\n",
    "\n",
    "\n",
    "## Normalization or standardization?\n",
    "\n",
    "The dataset's `V*` variables are the result of a PCA transformation and don't need standardization. Reviewing their standard deviations, the PCA variable names appear to capture the explained variance of each feature in decreasing order. \n",
    "\n",
    "The variance explained by the first 25 of the 28 components is calculated below."
   ]
  },
  {
   "cell_type": "code",
   "execution_count": 3,
   "id": "6a103f03",
   "metadata": {
    "scrolled": false
   },
   "outputs": [
    {
     "data": {
      "text/plain": [
       "0.8587489339504131"
      ]
     },
     "execution_count": 3,
     "metadata": {},
     "output_type": "execute_result"
    }
   ],
   "source": [
    "pca_summary_stats = data.iloc[:,1:29].describe()\n",
    "pca_sum_var = pca_summary_stats.loc['std'].pow(2).sum()\n",
    "sum(pca_summary_stats.loc['std'].iloc[1:25,].pow(2)/pca_sum_var)"
   ]
  },
  {
   "cell_type": "markdown",
   "id": "d4a43f39",
   "metadata": {},
   "source": [
    "The first 25 components explain about $\\approx$ 86% of the variance. For this analysis, all the PCA components will be included in the models developed. \n",
    "\n",
    "The  `Amount` and `Time` fields require standardization. A standard scaler will be used on the `Amount` variable.   \n",
    "\n",
    "The `Time` variable contains the seconds elapsed between each transaction and the first transaction in the dataset. If I had some way of associating the transactions, this might be useful. As I can't, I will exclude the `Time` variable from the analysis."
   ]
  },
  {
   "cell_type": "code",
   "execution_count": 4,
   "id": "3fc59506",
   "metadata": {},
   "outputs": [
    {
     "data": {
      "text/html": [
       "<div>\n",
       "<style scoped>\n",
       "    .dataframe tbody tr th:only-of-type {\n",
       "        vertical-align: middle;\n",
       "    }\n",
       "\n",
       "    .dataframe tbody tr th {\n",
       "        vertical-align: top;\n",
       "    }\n",
       "\n",
       "    .dataframe thead th {\n",
       "        text-align: right;\n",
       "    }\n",
       "</style>\n",
       "<table border=\"1\" class=\"dataframe\">\n",
       "  <thead>\n",
       "    <tr style=\"text-align: right;\">\n",
       "      <th></th>\n",
       "      <th>count</th>\n",
       "      <th>mean</th>\n",
       "      <th>std</th>\n",
       "      <th>min</th>\n",
       "      <th>25%</th>\n",
       "      <th>50%</th>\n",
       "      <th>75%</th>\n",
       "      <th>max</th>\n",
       "    </tr>\n",
       "  </thead>\n",
       "  <tbody>\n",
       "    <tr>\n",
       "      <th>Amount</th>\n",
       "      <td>284807.0</td>\n",
       "      <td>2.913952e-17</td>\n",
       "      <td>1.000002</td>\n",
       "      <td>-0.353229</td>\n",
       "      <td>-0.33084</td>\n",
       "      <td>-0.265271</td>\n",
       "      <td>-0.044717</td>\n",
       "      <td>102.362243</td>\n",
       "    </tr>\n",
       "  </tbody>\n",
       "</table>\n",
       "</div>"
      ],
      "text/plain": [
       "           count          mean       std       min      25%       50%  \\\n",
       "Amount  284807.0  2.913952e-17  1.000002 -0.353229 -0.33084 -0.265271   \n",
       "\n",
       "             75%         max  \n",
       "Amount -0.044717  102.362243  "
      ]
     },
     "execution_count": 4,
     "metadata": {},
     "output_type": "execute_result"
    }
   ],
   "source": [
    "X = data.iloc[:,1:30] # Exclude Time variable.\n",
    "y = data.iloc[:,30]\n",
    "\n",
    "# Standardize Amount.\n",
    "from sklearn.preprocessing import StandardScaler\n",
    "X[['Amount']] = StandardScaler().fit_transform(X[['Amount']])\n",
    "X[['Amount']].describe().transpose()"
   ]
  },
  {
   "cell_type": "markdown",
   "id": "4fc745ed",
   "metadata": {},
   "source": [
    "The scaled `Amount` looks correct.\n",
    "\n",
    "## Split the dataset & model testing\n",
    "\n",
    "The 50/50 split of training and test data is done below."
   ]
  },
  {
   "cell_type": "code",
   "execution_count": 5,
   "id": "ea1c5666",
   "metadata": {},
   "outputs": [],
   "source": [
    "import numpy as np\n",
    "from sklearn.model_selection import train_test_split\n",
    "from sklearn.preprocessing import StandardScaler\n",
    "from sklearn.metrics import accuracy_score, f1_score, recall_score, precision_score\n",
    "from sklearn.model_selection import GridSearchCV\n",
    "X_tr, X_ts, y_tr, y_ts = train_test_split(X, y, test_size=0.50, stratify=y, random_state=0)"
   ]
  },
  {
   "cell_type": "markdown",
   "id": "9ea6739d",
   "metadata": {},
   "source": [
    "The code below performs hyper-parameter grid searches using SVC, Decision Tree, MLP, and Random Forest algorithms. A 10-fold CV is done to determine the best estimator for each grid search. Using the best estimator, the F1 scores are calculated. For each algorithm, a non-regularized and a regularized grid search is done.\n",
    "\n",
    "# Classifier: SVC\n",
    "\n",
    "Below, SVM classifier is fitted using the default regularization parameters and its performance calculated. This model and the ones that follow were fitted using a AWS `c6a.24xlarge` EC2 instance using 95 of its 96 CPUs."
   ]
  },
  {
   "cell_type": "code",
   "execution_count": 6,
   "id": "06d84619",
   "metadata": {},
   "outputs": [],
   "source": [
    "from sklearn.svm import SVC\n",
    "number_of_jobs=95"
   ]
  },
  {
   "cell_type": "code",
   "execution_count": 7,
   "id": "a09a12a3",
   "metadata": {},
   "outputs": [
    {
     "name": "stdout",
     "output_type": "stream",
     "text": [
      "{'C': 1}\n",
      "Reclassification score: 0.8991228070175439\n",
      "Test score: 0.7593052109181141\n",
      "CPU times: user 1min 17s, sys: 776 ms, total: 1min 17s\n",
      "Wall time: 2min 14s\n"
     ]
    }
   ],
   "source": [
    "%%time\n",
    "params = [{'C': [1]}]\n",
    "gs = GridSearchCV(SVC(kernel='rbf'), param_grid=params, scoring='f1', cv=10, n_jobs=number_of_jobs)\n",
    "gs.fit(X_tr, y_tr)\n",
    "# Get best parameters...\n",
    "print(gs.best_params_)\n",
    "# find best model score\n",
    "print(f'Reclassification score: {gs.score(X_tr, y_tr)}')\n",
    "print(f'Test score: {gs.score(X_ts, y_ts)}')"
   ]
  },
  {
   "cell_type": "markdown",
   "id": "2d991ce1",
   "metadata": {},
   "source": [
    "To regularize the SVM, a grid search will be performed using the two hyper-parameters below:\n",
    "\n",
    "- The `C` regularization parameter controls the strength of the `l2` penalty added to the algorithm's objective function.\n",
    "- The `gamma` ($\\gamma$) parameter is a multiplier that is applied as a regularization parameter within the kernel calculation."
   ]
  },
  {
   "cell_type": "code",
   "execution_count": 8,
   "id": "177e81d6",
   "metadata": {},
   "outputs": [
    {
     "name": "stdout",
     "output_type": "stream",
     "text": [
      "{'C': 2.9, 'gamma': 'scale'}\n",
      "Reclassification score: 0.9379014989293363\n",
      "Test score: 0.7990314769975787\n",
      "CPU times: user 1min 4s, sys: 498 ms, total: 1min 4s\n",
      "Wall time: 3min 43s\n"
     ]
    }
   ],
   "source": [
    "%%time\n",
    "params = [{'gamma': ['scale','auto'], 'C': [2.8, 2.9, 3, 3.1]}]\n",
    "gs = GridSearchCV(SVC(kernel='rbf'), param_grid=params, scoring='f1', cv=10, n_jobs=number_of_jobs)\n",
    "gs.fit(X_tr, y_tr)\n",
    "# Get best parameters...\n",
    "print(gs.best_params_)\n",
    "# Find best model score...\n",
    "print(f'Reclassification score: {gs.score(X_tr, y_tr)}')\n",
    "print(f'Test score: {gs.score(X_ts, y_ts)}')"
   ]
  },
  {
   "cell_type": "markdown",
   "id": "e9268bd1",
   "metadata": {},
   "source": [
    "Displayed above are the hyper-parameters of the best performing estimator. Comparing the performance of the two models, the regularized SVM model generalized better on the test data.\n",
    "\n",
    "# Classifier: Decision Tree\n",
    "\n",
    "Below an un-pruned decision tree is fitted and evaluated. "
   ]
  },
  {
   "cell_type": "code",
   "execution_count": 9,
   "id": "191a6613",
   "metadata": {},
   "outputs": [
    {
     "name": "stdout",
     "output_type": "stream",
     "text": [
      "{'criterion': 'entropy'}\n",
      "Reclassification score: 1.0\n",
      "Test score: 0.7276595744680852\n",
      "CPU times: user 6.15 s, sys: 142 ms, total: 6.29 s\n",
      "Wall time: 16 s\n"
     ]
    }
   ],
   "source": [
    "%%time\n",
    "from sklearn.tree import DecisionTreeClassifier\n",
    "params = [{'criterion':['gini', 'entropy']}]\n",
    "gs = GridSearchCV(DecisionTreeClassifier(random_state=0), param_grid=params, scoring='f1', cv=10, n_jobs=number_of_jobs)\n",
    "gs.fit(X_tr, y_tr)\n",
    "# Get best parameters...\n",
    "print(gs.best_params_)\n",
    "# Find best model score...\n",
    "print(f'Reclassification score: {gs.score(X_tr, y_tr)}')\n",
    "print(f'Test score: {gs.score(X_ts, y_ts)}')"
   ]
  },
  {
   "cell_type": "markdown",
   "id": "6a3fc9b1",
   "metadata": {},
   "source": [
    "Next a pruned tree is fitted using `sklearn's` implementation of Minimal Cost-Complexity Pruning, an algorithm used to prune a tree to avoid over-fitting. The pruning occurs such that the subtree with the largest cost complexity that is smaller than ccp_alpha hyper-parameter will be chosen. To help select the best alpha value for the tree, the code below computes the pruning path during a Minimal Cost-Complexity pruning of a tree. These values will be used in the grid search that follows to find an optimal `ccp_alpha` value. "
   ]
  },
  {
   "cell_type": "code",
   "execution_count": 10,
   "id": "918a54ea",
   "metadata": {},
   "outputs": [
    {
     "name": "stdout",
     "output_type": "stream",
     "text": [
      "CPU times: user 10.3 s, sys: 34.2 ms, total: 10.4 s\n",
      "Wall time: 10.4 s\n"
     ]
    },
    {
     "data": {
      "image/png": "[encoded data removed]",
      "text/plain": [
       "<Figure size 432x288 with 1 Axes>"
      ]
     },
     "metadata": {
      "needs_background": "light"
     },
     "output_type": "display_data"
    }
   ],
   "source": [
    "%%time\n",
    "clf = DecisionTreeClassifier(random_state=0)\n",
    "path = clf.cost_complexity_pruning_path(X_tr, y_tr)\n",
    "ccp_alphas, impurities = path.ccp_alphas, path.impurities\n",
    "import matplotlib.pyplot as plt\n",
    "fig, ax = plt.subplots()\n",
    "ax.plot(ccp_alphas[:-1], impurities[:-1], marker=\"o\", drawstyle=\"steps-post\")\n",
    "ax.set_xlabel(\"effective alpha\")\n",
    "ax.set_ylabel(\"total impurity of leaves\")\n",
    "restult = ax.set_title(\"Total Impurity vs effective alpha for training set\")"
   ]
  },
  {
   "cell_type": "markdown",
   "id": "04f93d6b",
   "metadata": {},
   "source": [
    "The alphas calculated above will now be used in a grid search to find the best estimator. "
   ]
  },
  {
   "cell_type": "code",
   "execution_count": 11,
   "id": "4a3ddca7",
   "metadata": {},
   "outputs": [
    {
     "name": "stdout",
     "output_type": "stream",
     "text": [
      "{'ccp_alpha': 6.870347409444549e-05, 'criterion': 'entropy'}\n",
      "Reclassification score: 0.8812095032397409\n",
      "Test score: 0.7847533632286996\n",
      "CPU times: user 7.99 s, sys: 810 ms, total: 8.8 s\n",
      "Wall time: 1min 28s\n"
     ]
    }
   ],
   "source": [
    "%%time\n",
    "params = [{'ccp_alpha': ccp_alphas, 'criterion':['gini', 'entropy']}]\n",
    "gs = GridSearchCV(DecisionTreeClassifier(random_state=0), param_grid=params, scoring='f1', cv=10, n_jobs=number_of_jobs)\n",
    "gs.fit(X_tr, y_tr)\n",
    "# Get best parameters...\n",
    "print(gs.best_params_)\n",
    "# Find best model score...\n",
    "print(f'Reclassification score: {gs.score(X_tr, y_tr)}')\n",
    "print(f'Test score: {gs.score(X_ts, y_ts)}')"
   ]
  },
  {
   "cell_type": "markdown",
   "id": "7dd8edb7",
   "metadata": {},
   "source": [
    "While the reclassification `F1 Score` is lower for the pruned decision tree, its test score is higher than the un-pruned tree.\n",
    "\n",
    "# Classifier: MLP Classifier\n",
    "\n",
    "Below, a non-regularized MLP is evaluated."
   ]
  },
  {
   "cell_type": "code",
   "execution_count": 12,
   "id": "b6ebe019",
   "metadata": {},
   "outputs": [
    {
     "name": "stdout",
     "output_type": "stream",
     "text": [
      "{'alpha': 0, 'batch_size': 200, 'learning_rate_init': 0.001, 'max_iter': 100}\n",
      "Reclassification score: 0.9120654396728016\n",
      "Test score: 0.8134171907756813\n",
      "CPU times: user 12.2 s, sys: 10.7 s, total: 22.9 s\n",
      "Wall time: 1min 27s\n"
     ]
    }
   ],
   "source": [
    "%%time\n",
    "from sklearn.neural_network import MLPClassifier\n",
    "params = [{'max_iter': [100, 500, 1000, 2000], \n",
    "           'learning_rate_init':[0.1, 0.01, 0.001, 0.0001], 'alpha':[0],\n",
    "           'batch_size': [100, 200, 500]}]\n",
    "mlp = MLPClassifier(hidden_layer_sizes=(28,10), random_state=0)\n",
    "gs = GridSearchCV(mlp, param_grid=params, scoring='f1', cv=10, n_jobs=number_of_jobs)\n",
    "gs.fit(X_tr, y_tr)\n",
    "# Get best parameters...\n",
    "print(gs.best_params_)\n",
    "# Find best model score...\n",
    "print(f'Reclassification score: {gs.score(X_tr, y_tr)}')\n",
    "print(f'Test score: {gs.score(X_ts, y_ts)}')"
   ]
  },
  {
   "cell_type": "markdown",
   "id": "20675911",
   "metadata": {},
   "source": [
    "Now a regularized grid search will be performed using the `sklearn` MLP implementation's `alpha` hyper-parameter. This parameter determines the strength of the `L2` regularization. "
   ]
  },
  {
   "cell_type": "code",
   "execution_count": 13,
   "id": "2cdd288b",
   "metadata": {},
   "outputs": [
    {
     "name": "stdout",
     "output_type": "stream",
     "text": [
      "{'alpha': 0.01, 'batch_size': 200, 'learning_rate_init': 0.001, 'max_iter': 100}\n",
      "Reclassification score: 0.8945147679324894\n",
      "Test score: 0.8366013071895425\n",
      "CPU times: user 15.8 s, sys: 14.5 s, total: 30.3 s\n",
      "Wall time: 3min 27s\n"
     ]
    }
   ],
   "source": [
    "%%time\n",
    "params = [{'max_iter': [100, 500, 1000, 2000], \n",
    "           'learning_rate_init':[0.1, 0.01, 0.001, 0.0001], 'alpha':[0.01, 0.001, 0.0001],\n",
    "           'batch_size': [100, 200, 500]}]\n",
    "mlp = MLPClassifier(hidden_layer_sizes=(28,10), random_state=0)\n",
    "gs = GridSearchCV(mlp, param_grid=params, scoring='f1', cv=10, n_jobs=number_of_jobs)\n",
    "gs.fit(X_tr, y_tr)\n",
    "# Get best parameters...\n",
    "print(gs.best_params_)\n",
    "# Find best model score...\n",
    "print(f'Reclassification score: {gs.score(X_tr, y_tr)}')\n",
    "print(f'Test score: {gs.score(X_ts, y_ts)}')"
   ]
  },
  {
   "cell_type": "markdown",
   "id": "475f79bd",
   "metadata": {},
   "source": [
    "The hyper-parameters and performance of the best estimator are displayed above. Once again, the regularized model has better generalized performance.  "
   ]
  },
  {
   "cell_type": "code",
   "execution_count": 14,
   "id": "f87e0555",
   "metadata": {},
   "outputs": [],
   "source": [
    "mlp_best_clf = gs.best_estimator_ "
   ]
  },
  {
   "cell_type": "markdown",
   "id": "e85cbcaf",
   "metadata": {},
   "source": [
    "# Classifier: Random Forest Classifier\n",
    "\n",
    "Below a non-pruned Random Forest classifier is fitted and evaluated."
   ]
  },
  {
   "cell_type": "code",
   "execution_count": 15,
   "id": "0c0b80da",
   "metadata": {},
   "outputs": [
    {
     "name": "stdout",
     "output_type": "stream",
     "text": [
      "{'max_depth': 9, 'n_estimators': 100}\n",
      "Reclassification score: 0.9473684210526316\n",
      "Test score: 0.8240534521158129\n",
      "CPU times: user 1min 1s, sys: 2.15 s, total: 1min 3s\n",
      "Wall time: 2min 39s\n"
     ]
    }
   ],
   "source": [
    "%%time\n",
    "from sklearn.ensemble import RandomForestClassifier\n",
    "def getRFModel(_estimators, _depth, _random_state=0, _alpha=0.0, _jobs=None):\n",
    "    return  RandomForestClassifier(n_estimators=_estimators, max_depth=_depth, \n",
    "                                   criterion=\"entropy\", class_weight=\"balanced_subsample\", \n",
    "                                   random_state=_random_state, n_jobs=_jobs, ccp_alpha=_alpha) \n",
    "\n",
    "params = [{'n_estimators': [10, 100, 200], 'max_depth': [None, 8, 9, 10, 11]}]\n",
    "gs = GridSearchCV(getRFModel(100, 10, 0, _alpha=0, _jobs=4), param_grid=params, scoring='f1', cv=10, n_jobs=number_of_jobs)\n",
    "gs.fit(X_tr, y_tr)\n",
    "# Get best parameters...\n",
    "print(gs.best_params_)\n",
    "# Find best model score...\n",
    "print(f'Reclassification score: {gs.score(X_tr, y_tr)}')\n",
    "print(f'Test score: {gs.score(X_ts, y_ts)}')"
   ]
  },
  {
   "cell_type": "markdown",
   "id": "8f84fee3",
   "metadata": {},
   "source": [
    "Next, using the best best performing `ccp_alpha` found in the Decision Tree grid search, a regularized model is evaluated below."
   ]
  },
  {
   "cell_type": "code",
   "execution_count": 16,
   "id": "8dd8ead3",
   "metadata": {},
   "outputs": [
    {
     "name": "stdout",
     "output_type": "stream",
     "text": [
      "{'ccp_alpha': 6.870347409444549e-05, 'max_depth': 9, 'n_estimators': 100}\n",
      "Reclassification score: 0.9435483870967742\n",
      "Test score: 0.8325991189427313\n",
      "CPU times: user 58.3 s, sys: 264 ms, total: 58.5 s\n",
      "Wall time: 2min 38s\n"
     ]
    }
   ],
   "source": [
    "%%time\n",
    "params = [{'n_estimators': [10, 100, 200], 'max_depth': [None, 8, 9, 10, 11], 'ccp_alpha':[6.870347409444549e-05]}]\n",
    "gs = GridSearchCV(getRFModel(100, 10, 0, _alpha=0, _jobs=4), param_grid=params, scoring='f1', cv=10, n_jobs=number_of_jobs)\n",
    "gs.fit(X_tr, y_tr)\n",
    "# Get best parameters...\n",
    "print(gs.best_params_)\n",
    "# Find best model score...\n",
    "print(f'Reclassification score: {gs.score(X_tr, y_tr)}')\n",
    "print(f'Test score: {gs.score(X_ts, y_ts)}')"
   ]
  },
  {
   "cell_type": "markdown",
   "id": "a80a7145",
   "metadata": {},
   "source": [
    "As expected, the regularized RFC performs better than the non-regularized model, although the difference is small.\n",
    "\n",
    "Next, a 10-fold CV is done using the best regularized Random Forest estimator."
   ]
  },
  {
   "cell_type": "code",
   "execution_count": 17,
   "id": "d045366b",
   "metadata": {},
   "outputs": [],
   "source": [
    "rf_best_clf = gs.best_estimator_ "
   ]
  },
  {
   "cell_type": "code",
   "execution_count": 18,
   "id": "ea7b9f4d",
   "metadata": {},
   "outputs": [],
   "source": [
    "from sklearn.model_selection import StratifiedKFold\n",
    "\n",
    "def eval_classifier(_clf, _X, _y, _niter, return_metrics=False, debug=False):\n",
    "    accs = []\n",
    "    precisions = []\n",
    "    recalls = []\n",
    "    f1s = []\n",
    "    for i in range(_niter):\n",
    "        kf = StratifiedKFold(n_splits=10,shuffle=True,random_state=i)\n",
    "        split = 1\n",
    "        for tr_ix, ts_ix in kf.split(_X, _y):\n",
    "            _clf.fit(_X[tr_ix], _y[tr_ix])\n",
    "            y_pred = _clf.predict(_X[ts_ix])\n",
    "            accs       += [accuracy_score (_y[ts_ix], y_pred)]\n",
    "            precisions += [precision_score(_y[ts_ix], y_pred, zero_division=0)]\n",
    "            recalls    += [recall_score   (_y[ts_ix], y_pred)]\n",
    "            f1s        += [f1_score       (_y[ts_ix], y_pred)]\n",
    "            if debug: print(f'Iteration {i}, Finished split {split}',end='\\r')\n",
    "            split += 1    \n",
    "        if debug: print(' ' * 50, end='\\r')            \n",
    "    \n",
    "    if return_metrics: \n",
    "        return [np.mean(accs),np.mean(precisions),np.mean(recalls),np.mean(f1s)]\n",
    "    else:\n",
    "        print(f'Stratified 10-Fold CV with {_niter} iterations')        \n",
    "        print(f' Accuracy = {np.mean(accs):.3f} {chr(177)}{np.std(accs):.4f},', end =\"\")\n",
    "        print(f' Precision = {np.mean(precisions):.3f} {chr(177)}{np.std(precisions):.4f},', end =\"\")\n",
    "        print(f' Recall = {np.mean(recalls):.3f} {chr(177)}{np.std(recalls):.4f},', end =\"\")\n",
    "        print(f' F1 Score = {np.mean(f1s):.3f} {chr(177)}{np.std(f1s):.4f}')"
   ]
  },
  {
   "cell_type": "code",
   "execution_count": 19,
   "id": "a6b9218f",
   "metadata": {},
   "outputs": [
    {
     "name": "stdout",
     "output_type": "stream",
     "text": [
      "Stratified 10-Fold CV with 1 iterations           \n",
      " Accuracy = 1.000 ±0.0001, Precision = 0.909 ±0.0475, Recall = 0.796 ±0.0721, F1 Score = 0.845 ±0.0338\n"
     ]
    }
   ],
   "source": [
    "eval_classifier(rf_best_clf, X_tr.values, y_tr.values, 1, debug=True)"
   ]
  },
  {
   "cell_type": "markdown",
   "id": "34805164",
   "metadata": {},
   "source": [
    "## Performance Summary\n",
    "\n",
    "Regularization improved the performance of all the models. The regularized MLP had the best generalized performance with a test data `F1 Score`of $\\approx$ 83.7%. Close behind was the regularized Random Forest Decision Tree at $\\approx$ 83.3%. \n",
    "\n",
    "\n",
    "# Classifier: PyTorch neural network\n",
    "\n",
    "Below, a ANN with two hidden layers is evaluated. The PyTorch code below came from Module 10's instructor provided notebook. However, I have modified the code to use a GPU (if its available) and changed all the activation functions to `ReLU`. The models were built on an AWS `p3.2xlarge` EC2 instance with 1 GPU and 8 CPUs. \n",
    "\n",
    "First, the data is reloaded as the code below was run on a different EC2 instance than the code above."
   ]
  },
  {
   "cell_type": "code",
   "execution_count": 1,
   "id": "b3162930",
   "metadata": {},
   "outputs": [],
   "source": [
    "import pandas as pd\n",
    "data = pd.read_csv('./creditcard.csv')\n",
    "X = data.iloc[:,1:30] # Exclude Time variable.\n",
    "y = data.iloc[:,30]\n",
    "from sklearn.preprocessing import StandardScaler\n",
    "X[['Amount']] = StandardScaler().fit_transform(X[['Amount']])\n",
    "X[['Amount']].describe().transpose()\n",
    "from sklearn.model_selection import train_test_split\n",
    "from sklearn.metrics import accuracy_score, f1_score, recall_score, precision_score\n",
    "X_tr, X_ts, y_tr, y_ts = train_test_split(X, y, test_size=0.50, stratify=y, random_state=0)"
   ]
  },
  {
   "cell_type": "markdown",
   "id": "7a7b80eb",
   "metadata": {},
   "source": [
    "The training and test are converted to PyTorch tensors.  "
   ]
  },
  {
   "cell_type": "code",
   "execution_count": 3,
   "id": "dee450b6",
   "metadata": {},
   "outputs": [],
   "source": [
    "import torch\n",
    "torch.manual_seed(0)\n",
    "X_tr_ten = torch.FloatTensor(X_tr.values)\n",
    "y_tr_ten = torch.LongTensor(y_tr.values)\n",
    "X_ts_ten = torch.FloatTensor(X_ts.values)\n",
    "y_ts_ten = torch.LongTensor(y_ts.values)"
   ]
  },
  {
   "cell_type": "markdown",
   "id": "f20f8fb6",
   "metadata": {},
   "source": [
    "The code below confirms `CUDA` is available. "
   ]
  },
  {
   "cell_type": "code",
   "execution_count": 4,
   "id": "c120a719-efc1-4d90-b46e-5a18eb8828bc",
   "metadata": {},
   "outputs": [
    {
     "name": "stdout",
     "output_type": "stream",
     "text": [
      "PyTorch version= 2.0.1\n",
      "CUDA available= False\n"
     ]
    }
   ],
   "source": [
    "print(f'PyTorch version= {torch.__version__}')\n",
    "print(f'CUDA available= {torch.cuda.is_available()}')  # CUDA optional - True when GPU present, CUDA installed\n",
    "device_type = torch.device('cuda:0' if torch.cuda.is_available() else 'cpu')"
   ]
  },
  {
   "cell_type": "markdown",
   "id": "485595d2",
   "metadata": {},
   "source": [
    "Now, lets confirm a GPU is available. "
   ]
  },
  {
   "cell_type": "code",
   "execution_count": 5,
   "id": "57e5c577",
   "metadata": {},
   "outputs": [
    {
     "name": "stdout",
     "output_type": "stream",
     "text": [
      "Number of GPUs: 0\n"
     ]
    }
   ],
   "source": [
    "print(f'Number of GPUs: {torch.cuda.device_count()}')"
   ]
  },
  {
   "cell_type": "markdown",
   "id": "a500d63d",
   "metadata": {},
   "source": [
    "Below is the `PyTorchMLP` ANN implementation."
   ]
  },
  {
   "cell_type": "code",
   "execution_count": 6,
   "id": "69461076",
   "metadata": {},
   "outputs": [],
   "source": [
    "import numpy as np\n",
    "\n",
    "class PyTorchMLP(torch.nn.Module):  \n",
    "    def __init__(self, n_hidden=10, epochs=100, eta=0.001, minibatch_size=50, seed=0):\n",
    "        super(PyTorchMLP, self).__init__()\n",
    "        self.random = np.random.RandomState(seed)  # shuffle mini batches\n",
    "        self.n_hidden = n_hidden  # size of the hidden layer\n",
    "        self.epochs = epochs  # number of iterations\n",
    "        self.eta = eta  # learning rate\n",
    "        self.minibatch_size = minibatch_size  # size of training batch - 1 would not work\n",
    "        self.optimizer = None\n",
    "        self.loss_func = torch.nn.CrossEntropyLoss()\n",
    "        self.model = None\n",
    "\n",
    "    def init_layers(self, _M:int, _K:int) -> None:\n",
    "        # data structure\n",
    "        self.model = torch.nn.Sequential(\n",
    "            torch.nn.Linear(_M, self.n_hidden).to(device_type), #self.n_hidden\n",
    "            torch.nn.ReLU().to(device_type),\n",
    "            torch.nn.Linear(self.n_hidden, self.n_hidden).to(device_type),\n",
    "            torch.nn.ReLU().to(device_type),\n",
    "            torch.nn.Linear(self.n_hidden, _K).to(device_type),\n",
    "        )\n",
    "    \n",
    "    def predict(self, _X):\n",
    "        _X = _X.to(device_type, non_blocking=True)\n",
    "        assert self.model is not None\n",
    "        self.model.eval()\n",
    "        with torch.no_grad():\n",
    "            y_pred = np.argmax(self.model(_X).cpu(), axis=1)\n",
    "        self.model.train()\n",
    "        return y_pred.numpy()\n",
    "\n",
    "    def fit(self, _X_train, _y_train, info=False):\n",
    "        import sys\n",
    "        \n",
    "        _X_train = _X_train.to(device_type, non_blocking=True)\n",
    "        _y_train = _y_train.to(device_type, non_blocking=True).long()\n",
    "        \n",
    "        n_features= _X_train.shape[1]\n",
    "        n_output= 2 #np.unique(_y_train).shape[0]  # number of class labels CHANGE\n",
    "        \n",
    "        self.init_layers(n_features, n_output)\n",
    "        self.optimizer = torch.optim.Rprop(self.model.parameters(), lr=self.eta)  # connect model to optimizer\n",
    "\n",
    "        for i in range(self.epochs):\n",
    "            print(f'Epoc {i}...',end='\\r')\n",
    "            \n",
    "            indices = np.arange(_X_train.shape[0])\n",
    "            self.random.shuffle(indices)  # shuffle the data each epoch\n",
    "\n",
    "            for start_idx in range(0, indices.shape[0] - self.minibatch_size + 1, self.minibatch_size):\n",
    "                batch_idx = indices[start_idx:start_idx + self.minibatch_size]\n",
    "                self.optimizer.zero_grad()\n",
    "                \n",
    "                net_out = self.model(_X_train[batch_idx])\n",
    "                \n",
    "                loss = self.loss_func(net_out, _y_train[batch_idx])\n",
    "                loss.backward()\n",
    "                self.optimizer.step()\n",
    "                \n",
    "                if info:\n",
    "                    sys.stderr.write(f\"\\r{i+1:03d} Loss: {loss.item():6.5f}\")\n",
    "                    sys.stderr.flush()\n",
    "        return self"
   ]
  },
  {
   "cell_type": "markdown",
   "id": "29cc36ad",
   "metadata": {},
   "source": [
    "Below, a un-regularized ANN is evaluated. I did not have enough time to implement a search grid using PyTorch code. Therefore, the hyper-parameters below selected after a few rounds of pilot testing. "
   ]
  },
  {
   "cell_type": "code",
   "execution_count": 6,
   "id": "745f4224",
   "metadata": {},
   "outputs": [
    {
     "name": "stdout",
     "output_type": "stream",
     "text": [
      "Reclassification scores: 0.8316\n",
      "Test score: 0.8043\n",
      "CPU times: user 4.28 s, sys: 811 ms, total: 5.1 s\n",
      "Wall time: 5.05 s\n"
     ]
    }
   ],
   "source": [
    "%%time\n",
    "mlp1 = PyTorchMLP(n_hidden=20, epochs=100, eta=0.001, minibatch_size=12000)\n",
    "mlp1 = mlp1.to(device_type)\n",
    "mlp1 = mlp1.fit(X_tr_ten, y_tr_ten)\n",
    "print(f'Reclassification scores: {round(f1_score(y_tr, mlp1.predict(X_tr_ten)),4)}')\n",
    "print(f'Test score: {round(f1_score(y_ts, mlp1.predict(X_ts_ten)),4)}')"
   ]
  },
  {
   "cell_type": "markdown",
   "id": "2d51552a",
   "metadata": {},
   "source": [
    "## Add Dropouts\n",
    "\n",
    "Below, the ANN is regularized using a dropout probability of 10% after each hidden layer. "
   ]
  },
  {
   "cell_type": "code",
   "execution_count": 7,
   "id": "ae2e76f3",
   "metadata": {},
   "outputs": [
    {
     "name": "stdout",
     "output_type": "stream",
     "text": [
      "Reclassification scores: 0.8298\n",
      "Test score: 0.8017\n",
      "CPU times: user 3.22 s, sys: 43.6 ms, total: 3.27 s\n",
      "Wall time: 3.22 s\n"
     ]
    }
   ],
   "source": [
    "%%time\n",
    "# A derived class to have Dropout\n",
    "class MLP2(PyTorchMLP):\n",
    "    def init_layers(self, _M, _K):\n",
    "        self.model = torch.nn.Sequential(\n",
    "            torch.nn.Linear(_M, self.n_hidden).to(device_type),\n",
    "            torch.nn.ReLU().to(device_type),\n",
    "            torch.nn.Dropout(0.1).to(device_type),\n",
    "            torch.nn.Linear(self.n_hidden, self.n_hidden).to(device_type),\n",
    "            torch.nn.ReLU().to(device_type),\n",
    "            torch.nn.Dropout(0.1).to(device_type),\n",
    "            torch.nn.Linear(self.n_hidden, _K).to(device_type),\n",
    "        )\n",
    "\n",
    "mlp2 = MLP2(n_hidden=20, epochs=100, eta=0.001, minibatch_size=12000)\n",
    "mlp2 = mlp2.to(device_type)\n",
    "mlp2 = mlp2.fit(X_tr_ten, y_tr_ten)\n",
    "print(f'Reclassification scores: {round(f1_score(y_tr, mlp2.predict(X_tr_ten)),4)}')\n",
    "print(f'Test score: {round(f1_score(y_ts, mlp2.predict(X_ts_ten)),4)}')"
   ]
  },
  {
   "cell_type": "markdown",
   "id": "00dbc883",
   "metadata": {},
   "source": [
    "Interestingly, the regularization did not result in better generalized performance. Mostly likely, grid search performance tuning would improve this.\n",
    "\n",
    "## Performance Summary: 10-fold cross validation\n",
    "\n",
    "As reported above, the 10-fold CV `F1 Score` for the regularized Random Forest was $\\approx$ 84.5%.\n",
    "\n",
    "Below, the CV performance is calculated for the two PyTorch ANNs."
   ]
  },
  {
   "cell_type": "code",
   "execution_count": 8,
   "id": "9bea473c",
   "metadata": {},
   "outputs": [],
   "source": [
    "from sklearn.model_selection import StratifiedKFold\n",
    "\n",
    "def eval_classifier(_clf, _X, _y, _niter, return_metrics=False, debug=False):\n",
    "    accs = []\n",
    "    precisions = []\n",
    "    recalls = []\n",
    "    f1s = []\n",
    "    for i in range(_niter):\n",
    "        kf = StratifiedKFold(n_splits=10,shuffle=True,random_state=i)\n",
    "        split = 1\n",
    "        for tr_ix, ts_ix in kf.split(_X, _y):\n",
    "            _clf.fit(_X[tr_ix], _y[tr_ix])\n",
    "            y_pred = _clf.predict(_X[ts_ix])\n",
    "            accs       += [accuracy_score (_y[ts_ix], y_pred)]\n",
    "            precisions += [precision_score(_y[ts_ix], y_pred, zero_division=0)]\n",
    "            recalls    += [recall_score   (_y[ts_ix], y_pred)]\n",
    "            f1s        += [f1_score       (_y[ts_ix], y_pred)]\n",
    "            if debug: print(f'Iteration {i}, Finished split {split}',end='\\r')\n",
    "            split += 1    \n",
    "        if debug: print(' ' * 50, end='\\r')            \n",
    "    \n",
    "    if return_metrics: \n",
    "        return [np.mean(accs),np.mean(precisions),np.mean(recalls),np.mean(f1s)]\n",
    "    else:\n",
    "        print(f'Stratified 10-Fold CV with {_niter} iterations')        \n",
    "        print(f' Accuracy = {np.mean(accs):.3f} {chr(177)}{np.std(accs):.4f},', end =\"\")\n",
    "        print(f' Precision = {np.mean(precisions):.3f} {chr(177)}{np.std(precisions):.4f},', end =\"\")\n",
    "        print(f' Recall = {np.mean(recalls):.3f} {chr(177)}{np.std(recalls):.4f},', end =\"\")\n",
    "        print(f' F1 Score = {np.mean(f1s):.3f} {chr(177)}{np.std(f1s):.4f}')"
   ]
  },
  {
   "cell_type": "code",
   "execution_count": 9,
   "id": "8224a9db",
   "metadata": {},
   "outputs": [
    {
     "name": "stdout",
     "output_type": "stream",
     "text": [
      "Stratified 10-Fold CV with 1 iterations           \n",
      " Accuracy = 0.999 ±0.0002, Precision = 0.843 ±0.0719, Recall = 0.788 ±0.0749, F1 Score = 0.810 ±0.0451\n"
     ]
    }
   ],
   "source": [
    "eval_classifier(mlp1, X_tr_ten, y_tr_ten, 1, debug=True)"
   ]
  },
  {
   "cell_type": "code",
   "execution_count": 10,
   "id": "2b90af76",
   "metadata": {},
   "outputs": [
    {
     "name": "stdout",
     "output_type": "stream",
     "text": [
      "Stratified 10-Fold CV with 1 iterations           \n",
      " Accuracy = 0.999 ±0.0001, Precision = 0.845 ±0.0703, Recall = 0.767 ±0.0921, F1 Score = 0.798 ±0.0454\n"
     ]
    }
   ],
   "source": [
    "eval_classifier(mlp2, X_tr_ten, y_tr_ten, 1, debug=True)"
   ]
  },
  {
   "cell_type": "markdown",
   "id": "fbc4948d",
   "metadata": {},
   "source": [
    "The Random Forest has a significantly better CV `F1 Score`. However, as mentioned, the ANN performance could be improved with some hyper-parameter tunning. "
   ]
  },
  {
   "cell_type": "code",
   "execution_count": null,
   "id": "0a208dcc",
   "metadata": {},
   "outputs": [],
   "source": []
  }
 ],
 "metadata": {
  "kernelspec": {
   "display_name": "Python 3 (ipykernel)",
   "language": "python",
   "name": "python3"
  },
  "language_info": {
   "codemirror_mode": {
    "name": "ipython",
    "version": 3
   },
   "file_extension": ".py",
   "mimetype": "text/x-python",
   "name": "python",
   "nbconvert_exporter": "python",
   "pygments_lexer": "ipython3",
   "version": "3.8.8"
  }
 },
 "nbformat": 4,
 "nbformat_minor": 5
}
