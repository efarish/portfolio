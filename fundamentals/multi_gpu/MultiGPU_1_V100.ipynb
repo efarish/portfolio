{
 "cells": [
  {
   "cell_type": "code",
   "execution_count": 1,
   "id": "8a6c2b09-b340-413d-b307-68130e3d6880",
   "metadata": {},
   "outputs": [
    {
     "data": {
      "text/plain": [
       "1"
      ]
     },
     "execution_count": 1,
     "metadata": {},
     "output_type": "execute_result"
    }
   ],
   "source": [
    "import torch\n",
    "\n",
    "torch.cuda.device_count()"
   ]
  },
  {
   "cell_type": "code",
   "execution_count": 2,
   "id": "5394bc3c-8bb5-4771-a408-b7a18424ba4a",
   "metadata": {},
   "outputs": [
    {
     "data": {
      "text/plain": [
       "'2.0.0.post200'"
      ]
     },
     "execution_count": 2,
     "metadata": {},
     "output_type": "execute_result"
    }
   ],
   "source": [
    "torch.__version__"
   ]
  },
  {
   "cell_type": "code",
   "execution_count": 3,
   "id": "80e55b41-e8be-4094-a211-785f979452cb",
   "metadata": {},
   "outputs": [
    {
     "name": "stdout",
     "output_type": "stream",
     "text": [
      "284808 creditcard.csv\n"
     ]
    }
   ],
   "source": [
    "!wc -l creditcard.csv"
   ]
  },
  {
   "cell_type": "code",
   "execution_count": 4,
   "id": "8223cd5d-2235-4c5f-bbb6-c4864d61572d",
   "metadata": {},
   "outputs": [
    {
     "name": "stdout",
     "output_type": "stream",
     "text": [
      "Found 1 GPUs.\n",
      "[GPU0] Epoch 0 | Batchsize: 12000 | Steps: 24\n",
      "Epoch 0 | Training checkpoint saved at checkpoint.pt\n",
      "[GPU0] Epoch 1 | Batchsize: 12000 | Steps: 24\n",
      "[GPU0] Epoch 2 | Batchsize: 12000 | Steps: 24\n",
      "[GPU0] Epoch 3 | Batchsize: 12000 | Steps: 24\n",
      "[GPU0] Epoch 4 | Batchsize: 12000 | Steps: 24\n",
      "[GPU0] Epoch 5 | Batchsize: 12000 | Steps: 24\n",
      "Epoch 5 | Training checkpoint saved at checkpoint.pt\n",
      "[GPU0] Epoch 6 | Batchsize: 12000 | Steps: 24\n",
      "[GPU0] Epoch 7 | Batchsize: 12000 | Steps: 24\n",
      "[GPU0] Epoch 8 | Batchsize: 12000 | Steps: 24\n",
      "[GPU0] Epoch 9 | Batchsize: 12000 | Steps: 24\n",
      "Reclassification F1 Score: 0.784687\n",
      "Duration: 65.76901006698608\n",
      "CPU times: user 950 ms, sys: 304 ms, total: 1.25 s\n",
      "Wall time: 1min 8s\n"
     ]
    }
   ],
   "source": [
    "%%time\n",
    "!python train_multi_gpu.py"
   ]
  },
  {
   "cell_type": "code",
   "execution_count": null,
   "id": "6abb6568-9c5c-4d83-ae93-842ca1022161",
   "metadata": {},
   "outputs": [],
   "source": []
  },
  {
   "cell_type": "code",
   "execution_count": null,
   "id": "2c5892f8-a12e-4ae8-92af-76f930acfff5",
   "metadata": {},
   "outputs": [],
   "source": []
  }
 ],
 "metadata": {
  "kernelspec": {
   "display_name": "Python 3 (ipykernel)",
   "language": "python",
   "name": "python3"
  },
  "language_info": {
   "codemirror_mode": {
    "name": "ipython",
    "version": 3
   },
   "file_extension": ".py",
   "mimetype": "text/x-python",
   "name": "python",
   "nbconvert_exporter": "python",
   "pygments_lexer": "ipython3",
   "version": "3.10.13"
  }
 },
 "nbformat": 4,
 "nbformat_minor": 5
}
