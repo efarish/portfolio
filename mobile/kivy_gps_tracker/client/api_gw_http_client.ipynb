{
 "cells": [
  {
   "cell_type": "markdown",
   "metadata": {},
   "source": [
    "### Set Globals\n",
    "\n",
    "Set the endpoint URL. This can be your loopback address or a remote URL (e.g. AWS load balancer, API Gateway, etc. ) "
   ]
  },
  {
   "cell_type": "code",
   "execution_count": 2,
   "metadata": {},
   "outputs": [
    {
     "name": "stderr",
     "output_type": "stream",
     "text": [
      "\n",
      "[notice] A new release of pip is available: 24.0 -> 24.3.1\n",
      "[notice] To update, run: python.exe -m pip install --upgrade pip\n"
     ]
    }
   ],
   "source": [
    "!pip install -qU httpx --progress-bar off"
   ]
  },
  {
   "cell_type": "code",
   "execution_count": null,
   "metadata": {},
   "outputs": [],
   "source": [
    "import httpx\n",
    "\n",
    "CONFIG_API = 'https://<An S3 HTTP accessible bucket>/config.json'\n",
    "\n",
    "def get_config() -> dict:\n",
    "    \"\"\"Method to download client app configuration.\"\"\"\n",
    "    response = httpx.get(CONFIG_API)\n",
    "    print(f'Config:{response.text}')\n",
    "    props = response.json()['config'] \n",
    "    print(f'{props=}')\n",
    "    return props\n",
    "\n",
    "props = get_config()\n",
    "\n",
    "api = props['api'] #SET API Gateway URL here. The code below assumes the URL end in \"/\"."
   ]
  },
  {
   "cell_type": "markdown",
   "metadata": {},
   "source": [
    "### Health Check Request\n",
    "\n",
    "Test GET request on endpoint."
   ]
  },
  {
   "cell_type": "code",
   "execution_count": 3,
   "metadata": {},
   "outputs": [
    {
     "name": "stdout",
     "output_type": "stream",
     "text": [
      "response.status_code=200\n",
      "response.text='{\"message\":\"The GPS Tracker container is up.\"}'\n",
      "CPU times: total: 391 ms\n",
      "Wall time: 598 ms\n"
     ]
    }
   ],
   "source": [
    "%%time \n",
    "\n",
    "url = api \n",
    "response = httpx.get(url)\n",
    "print(f'{response.status_code=}')\n",
    "print(f'{response.text=}')"
   ]
  },
  {
   "cell_type": "markdown",
   "metadata": {},
   "source": [
    "###  Create User"
   ]
  },
  {
   "cell_type": "markdown",
   "metadata": {},
   "source": [
    "The code below tests the create user endpoint."
   ]
  },
  {
   "cell_type": "code",
   "execution_count": 4,
   "metadata": {},
   "outputs": [
    {
     "name": "stdout",
     "output_type": "stream",
     "text": [
      "CPU times: total: 359 ms\n",
      "Wall time: 755 ms\n"
     ]
    },
    {
     "data": {
      "text/plain": [
       "<Response [201 Created]>"
      ]
     },
     "execution_count": 4,
     "metadata": {},
     "output_type": "execute_result"
    }
   ],
   "source": [
    "%%time \n",
    "\n",
    "response = httpx.post(api + 'users/create_user', json={\n",
    "  \"user_name\": \"mari\",\n",
    "  \"password\": \"a_password\",\n",
    "  \"role\": \"user\"\n",
    "})\n",
    "response"
   ]
  },
  {
   "cell_type": "markdown",
   "metadata": {},
   "source": [
    "### Request JSON Web Tokens "
   ]
  },
  {
   "cell_type": "markdown",
   "metadata": {},
   "source": [
    "An admin user is created by the ECS task a startup. Code below gets a JWT to be used for subsequent requests."
   ]
  },
  {
   "cell_type": "code",
   "execution_count": null,
   "metadata": {},
   "outputs": [],
   "source": [
    "response = httpx.post(api + 'auth/token', data={\"username\": \"admin\", \n",
    "                                                 \"password\": \"a_password_\", \"grant_type\": \"password\"},\n",
    "                           headers={\"content-type\": \"application/x-www-form-urlencoded\"})\n",
    "print(f'{response.status_code}')\n",
    "admin_token = response.json()\n",
    "print(admin_token)\n",
    "admin_headers = {\"Authorization\": f\"Bearer {admin_token['access_token']}\", \"Content-Type\": \"application/json\"}"
   ]
  },
  {
   "cell_type": "markdown",
   "metadata": {},
   "source": [
    "Now lets sign-in with the user created above and get a JWT."
   ]
  },
  {
   "cell_type": "code",
   "execution_count": 5,
   "metadata": {},
   "outputs": [
    {
     "name": "stdout",
     "output_type": "stream",
     "text": [
      "200\n",
      "CPU times: total: 219 ms\n",
      "Wall time: 465 ms\n"
     ]
    }
   ],
   "source": [
    "%%time\n",
    "\n",
    "response = httpx.post(api + 'auth/token', data={\"username\": \"a_user\", \n",
    "                                                 \"password\": \"a_password\", \"grant_type\": \"password\"},\n",
    "                           headers={\"content-type\": \"application/x-www-form-urlencoded\"})\n",
    "print(f'{response.status_code}')\n",
    "user_token = response.json()\n",
    "user_token\n",
    "user_headers = {\"Authorization\": f\"Bearer {user_token['access_token']}\", \"Content-Type\": \"application/json\"}"
   ]
  },
  {
   "cell_type": "markdown",
   "metadata": {},
   "source": [
    "###  Get All Users\n",
    "\n",
    "Verify only admins can call this endpoint."
   ]
  },
  {
   "cell_type": "code",
   "execution_count": 6,
   "metadata": {},
   "outputs": [
    {
     "name": "stdout",
     "output_type": "stream",
     "text": [
      "200\n",
      "CPU times: total: 359 ms\n",
      "Wall time: 1.01 s\n"
     ]
    },
    {
     "data": {
      "text/plain": [
       "[{'id': 1, 'user_name': 'admin', 'role': 'admin'},\n",
       " {'id': 2, 'user_name': 'mari', 'role': 'user'}]"
      ]
     },
     "execution_count": 6,
     "metadata": {},
     "output_type": "execute_result"
    }
   ],
   "source": [
    "%%time\n",
    "response = httpx.get(api + 'users/read_all', headers=admin_headers, timeout=5)\n",
    "print(response.status_code)\n",
    "response.json()"
   ]
  },
  {
   "cell_type": "markdown",
   "metadata": {},
   "source": [
    "Get most recent position updates."
   ]
  },
  {
   "cell_type": "code",
   "execution_count": 7,
   "metadata": {},
   "outputs": [
    {
     "name": "stdout",
     "output_type": "stream",
     "text": [
      "200\n",
      "CPU times: total: 312 ms\n",
      "Wall time: 560 ms\n"
     ]
    },
    {
     "data": {
      "text/plain": [
       "[{'id': 2, 'user_name': 'mari', 'lat': '40.67423504', 'lng': '-73.97354484'}]"
      ]
     },
     "execution_count": 7,
     "metadata": {},
     "output_type": "execute_result"
    }
   ],
   "source": [
    "%%time\n",
    "response = httpx.get(api + 'location/get_latest_locations', headers=admin_headers, timeout=5)\n",
    "print(response.status_code)\n",
    "response.json()"
   ]
  },
  {
   "cell_type": "markdown",
   "metadata": {},
   "source": [
    "Get all locations for a user."
   ]
  },
  {
   "cell_type": "code",
   "execution_count": 8,
   "metadata": {},
   "outputs": [
    {
     "name": "stdout",
     "output_type": "stream",
     "text": [
      "200\n",
      "Updates: 149\n",
      "Last Update: {'id': 1, 'user_name': 'admin', 'lat': '40.67431210', 'lng': '-73.97355700'}\n",
      "CPU times: total: 375 ms\n",
      "Wall time: 1.08 s\n"
     ]
    }
   ],
   "source": [
    "%%time\n",
    "response = httpx.get(api + 'location/get_locations', headers=admin_headers, timeout=5)\n",
    "print(response.status_code)\n",
    "all_location_updates = response.json()\n",
    "print(f'Updates: {len(all_location_updates)}')\n",
    "print(f'Last Update: {all_location_updates[-1]}')"
   ]
  },
  {
   "cell_type": "markdown",
   "metadata": {},
   "source": [
    "### Web Socket Testing"
   ]
  },
  {
   "cell_type": "markdown",
   "metadata": {},
   "source": [
    "For WebSocket example client code, see the `ws_client.py` code."
   ]
  }
 ],
 "metadata": {
  "kernelspec": {
   "display_name": ".VENV",
   "language": "python",
   "name": "python3"
  },
  "language_info": {
   "codemirror_mode": {
    "name": "ipython",
    "version": 3
   },
   "file_extension": ".py",
   "mimetype": "text/x-python",
   "name": "python",
   "nbconvert_exporter": "python",
   "pygments_lexer": "ipython3",
   "version": "3.12.3"
  }
 },
 "nbformat": 4,
 "nbformat_minor": 2
}
